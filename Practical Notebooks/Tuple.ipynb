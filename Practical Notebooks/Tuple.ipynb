{
  "cells": [
    {
      "cell_type": "markdown",
      "id": "d657449e-841a-4f70-bc33-09c2febfe88b",
      "metadata": {
        "id": "d657449e-841a-4f70-bc33-09c2febfe88b"
      },
      "source": [
        "# Python Tuples\n",
        "\n",
        "\n",
        "\n",
        "# Tuple Items\n",
        "\n",
        "- Ordered\n",
        "- Unchangeable\n",
        "- Allow Duplicates\n"
      ]
    },
    {
      "cell_type": "code",
      "execution_count": null,
      "id": "d0ec2fe7-e459-4e6e-9be2-0c9640bf1cce",
      "metadata": {
        "id": "d0ec2fe7-e459-4e6e-9be2-0c9640bf1cce",
        "outputId": "eeb1f2ac-1465-4746-fb5f-b3a4051baf40"
      },
      "outputs": [
        {
          "name": "stdout",
          "output_type": "stream",
          "text": [
            "('apple', 'banana', 'cherry', 'apple', 'cherry')\n"
          ]
        }
      ],
      "source": [
        "thistuple = (\"apple\", \"banana\", \"cherry\", \"apple\", \"cherry\")\n",
        "print(thistuple)"
      ]
    },
    {
      "cell_type": "code",
      "execution_count": null,
      "id": "fec3e672-0c7f-4e1f-92e5-7732885eff88",
      "metadata": {
        "id": "fec3e672-0c7f-4e1f-92e5-7732885eff88",
        "outputId": "eb3a2cde-a9a6-4705-9c1f-8a06ba6e4fe0"
      },
      "outputs": [
        {
          "name": "stdout",
          "output_type": "stream",
          "text": [
            "<class 'tuple'>\n"
          ]
        }
      ],
      "source": [
        "tuple1 = (\"apple\", \"banana\", \"cherry\")\n",
        "tuple2 = (1, 5, 7, 9, 3)\n",
        "tuple3 = (True, False, False)\n",
        "\n",
        "#A tuple with strings, integers and boolean values:\n",
        "\n",
        "tuple4 = (\"abc\", 34, True, 40, \"male\")\n",
        "print(type(tuple4))"
      ]
    },
    {
      "cell_type": "markdown",
      "id": "ab3c91fc-c13c-4853-b3ad-2d7f3d90c4b9",
      "metadata": {
        "id": "ab3c91fc-c13c-4853-b3ad-2d7f3d90c4b9"
      },
      "source": [
        "# Different Ways of Creating a Tuple\n",
        "- Using round brackets\n",
        "- Without Brackets\n",
        "- Tuple Constructor\n",
        "- Empty Tuple\n",
        "- Single Element Tuple\n",
        "- Using Tuple Packing\n"
      ]
    },
    {
      "cell_type": "code",
      "execution_count": null,
      "id": "403090ad-dc0f-4c52-87ba-36bac36501e2",
      "metadata": {
        "id": "403090ad-dc0f-4c52-87ba-36bac36501e2",
        "outputId": "55482ab7-1685-4ece-d181-efa0ccd0c9f7"
      },
      "outputs": [
        {
          "name": "stdout",
          "output_type": "stream",
          "text": [
            "('gfg', 'Python')\n"
          ]
        }
      ],
      "source": [
        "#Using Round Brackets\n",
        "\n",
        "\n",
        "\n",
        "tup = (\"gfg\", \"Python\")\n",
        "print(tup)"
      ]
    },
    {
      "cell_type": "code",
      "execution_count": null,
      "id": "6f442e05-d3b9-4ce7-a564-3fffff0fa364",
      "metadata": {
        "id": "6f442e05-d3b9-4ce7-a564-3fffff0fa364",
        "outputId": "c7519e85-5714-4c1a-a91e-098b555899fa"
      },
      "outputs": [
        {
          "name": "stdout",
          "output_type": "stream",
          "text": [
            "(4, 5, 6)\n"
          ]
        }
      ],
      "source": [
        "# Using Comma Separated\n",
        "\n",
        "\n",
        "\n",
        "# Creating a tuple without brackets\n",
        "tup = 4, 5, 6\n",
        "print(tup)"
      ]
    },
    {
      "cell_type": "code",
      "execution_count": null,
      "id": "461021a3-7527-47fd-aa30-84c724ca9c02",
      "metadata": {
        "id": "461021a3-7527-47fd-aa30-84c724ca9c02",
        "outputId": "b8d960c8-8d53-4519-c392-3c06a236515f"
      },
      "outputs": [
        {
          "name": "stdout",
          "output_type": "stream",
          "text": [
            "(7, 8, 9)\n"
          ]
        }
      ],
      "source": [
        "# Using Tuple Constructor\n",
        "\n",
        "\n",
        "\n",
        "# Creating a tuple using the tuple() constructor\n",
        "tup = tuple([7, 8, 9])\n",
        "print(tup)"
      ]
    },
    {
      "cell_type": "code",
      "execution_count": null,
      "id": "587fd3ab-5637-4a8d-b770-9c39affb13bb",
      "metadata": {
        "id": "587fd3ab-5637-4a8d-b770-9c39affb13bb"
      },
      "outputs": [],
      "source": [
        "# Creating an Empty Tuple\n",
        "\n",
        "\n",
        "\n",
        "# Creating an empty tuple\n",
        "tup = ()\n",
        "print(tup)"
      ]
    },
    {
      "cell_type": "code",
      "execution_count": null,
      "id": "e9ade654-7472-44bb-a754-84af4d643564",
      "metadata": {
        "id": "e9ade654-7472-44bb-a754-84af4d643564",
        "outputId": "3b76aa4e-aeb1-4429-9b15-2fdd355f3892"
      },
      "outputs": [
        {
          "name": "stdout",
          "output_type": "stream",
          "text": [
            "(10,)\n",
            "<class 'tuple'>\n",
            "10\n",
            "<class 'int'>\n"
          ]
        }
      ],
      "source": [
        "# Single Element Tuple\n",
        "\n",
        "\n",
        "\n",
        "# Creating a single-element tuple\n",
        "tup = (10, ) # Comma is important here\n",
        "print(tup)  # Output: (10,)\n",
        "print(type(tup))\n",
        "\n",
        "# What if we do not use comma\n",
        "tup = (10) # This an integer (not a tuple)\n",
        "print(tup)\n",
        "print(type(tup))"
      ]
    },
    {
      "cell_type": "markdown",
      "id": "d7c6ce9f-b0b6-41e2-b662-633f92b79398",
      "metadata": {
        "id": "d7c6ce9f-b0b6-41e2-b662-633f92b79398"
      },
      "source": []
    },
    {
      "cell_type": "markdown",
      "id": "b7398124-26b0-4ce4-8ca4-5016a72b0878",
      "metadata": {
        "id": "b7398124-26b0-4ce4-8ca4-5016a72b0878"
      },
      "source": [
        "# The tuple() Constructor"
      ]
    },
    {
      "cell_type": "code",
      "execution_count": null,
      "id": "db09a059-1915-4ad0-8581-47ba7938f9d6",
      "metadata": {
        "id": "db09a059-1915-4ad0-8581-47ba7938f9d6",
        "outputId": "8a509574-3f84-4f56-acbe-b06f9d78edbd"
      },
      "outputs": [
        {
          "name": "stdout",
          "output_type": "stream",
          "text": [
            "('apple', 'banana', 'cherry')\n"
          ]
        }
      ],
      "source": [
        "thistuple = tuple((\"apple\", \"banana\", \"cherry\")) # note the double round-brackets\n",
        "print(thistuple)"
      ]
    },
    {
      "cell_type": "markdown",
      "id": "6776610f-a886-48af-a551-18d556353093",
      "metadata": {
        "id": "6776610f-a886-48af-a551-18d556353093"
      },
      "source": [
        "# Access Tuple Items\n"
      ]
    },
    {
      "cell_type": "code",
      "execution_count": null,
      "id": "e2b6614b-8c74-41b2-b417-7b0e7aa027cf",
      "metadata": {
        "id": "e2b6614b-8c74-41b2-b417-7b0e7aa027cf",
        "outputId": "5f693ce1-3066-47c9-8f36-bfc4a261a5e4"
      },
      "outputs": [
        {
          "name": "stdout",
          "output_type": "stream",
          "text": [
            "banana\n"
          ]
        }
      ],
      "source": [
        "#Print the second item in the tuple:\n",
        "\n",
        "thistuple = (\"apple\", \"banana\", \"cherry\")\n",
        "print(thistuple[1])"
      ]
    },
    {
      "cell_type": "markdown",
      "id": "06609be4-7418-47cb-96f2-f26d08aee100",
      "metadata": {
        "id": "06609be4-7418-47cb-96f2-f26d08aee100"
      },
      "source": [
        "# Negative Indexing."
      ]
    },
    {
      "cell_type": "code",
      "execution_count": null,
      "id": "a361e011-194e-43c9-b21f-f8cbfb77c3e2",
      "metadata": {
        "id": "a361e011-194e-43c9-b21f-f8cbfb77c3e2",
        "outputId": "3b818af6-978a-4c0e-e226-695f64d0a48b"
      },
      "outputs": [
        {
          "name": "stdout",
          "output_type": "stream",
          "text": [
            "cherry\n"
          ]
        }
      ],
      "source": [
        "# Print the last item of the tuple:\n",
        "\n",
        "thistuple = (\"apple\", \"banana\", \"cherry\")\n",
        "print(thistuple[-1])"
      ]
    },
    {
      "cell_type": "markdown",
      "id": "6c54e34a-f3e8-4629-b7a3-2888498967ab",
      "metadata": {
        "id": "6c54e34a-f3e8-4629-b7a3-2888498967ab"
      },
      "source": [
        "# Range of Indexes\n"
      ]
    },
    {
      "cell_type": "code",
      "execution_count": null,
      "id": "3ac59cdd-3580-4e96-be36-47ae2f8e8cc4",
      "metadata": {
        "id": "3ac59cdd-3580-4e96-be36-47ae2f8e8cc4",
        "outputId": "d907703f-ad0e-4e00-c7ca-e77cf133b0b3"
      },
      "outputs": [
        {
          "name": "stdout",
          "output_type": "stream",
          "text": [
            "('cherry', 'orange', 'kiwi')\n"
          ]
        }
      ],
      "source": [
        "#Return the third, fourth, and fifth item:\n",
        "\n",
        "thistuple = (\"apple\", \"banana\", \"cherry\", \"orange\", \"kiwi\", \"melon\", \"mango\")\n",
        "print(thistuple[2:5])"
      ]
    },
    {
      "cell_type": "code",
      "execution_count": null,
      "id": "b66f03bf-d485-4da0-9b96-6a46a5549432",
      "metadata": {
        "id": "b66f03bf-d485-4da0-9b96-6a46a5549432",
        "outputId": "b7a1602d-cf30-4053-9e8a-1f598cf3b802"
      },
      "outputs": [
        {
          "name": "stdout",
          "output_type": "stream",
          "text": [
            "('apple', 'banana', 'cherry', 'orange')\n"
          ]
        }
      ],
      "source": [
        "# This example returns the items from the beginning to, but NOT included, \"kiwi\":\n",
        "\n",
        "thistuple = (\"apple\", \"banana\", \"cherry\", \"orange\", \"kiwi\", \"melon\", \"mango\")\n",
        "print(thistuple[:4])"
      ]
    },
    {
      "cell_type": "code",
      "execution_count": null,
      "id": "c79f585c-93a6-461a-a380-1964c5ea7ad3",
      "metadata": {
        "id": "c79f585c-93a6-461a-a380-1964c5ea7ad3",
        "outputId": "1b25e5d2-f007-4b65-bbab-b5b79324661e"
      },
      "outputs": [
        {
          "name": "stdout",
          "output_type": "stream",
          "text": [
            "('cherry', 'orange', 'kiwi', 'melon', 'mango')\n"
          ]
        }
      ],
      "source": [
        "# This example returns the items from \"cherry\" and to the end:\n",
        "\n",
        "thistuple = (\"apple\", \"banana\", \"cherry\", \"orange\", \"kiwi\", \"melon\", \"mango\")\n",
        "print(thistuple[2:])"
      ]
    },
    {
      "cell_type": "code",
      "execution_count": null,
      "id": "53e07eca-cff6-45e4-bfa1-babee6c6e9a3",
      "metadata": {
        "id": "53e07eca-cff6-45e4-bfa1-babee6c6e9a3",
        "outputId": "e6127734-6ea6-4775-dbc5-af2ad9c0fa8a"
      },
      "outputs": [
        {
          "name": "stdout",
          "output_type": "stream",
          "text": [
            "('orange', 'kiwi', 'melon')\n"
          ]
        }
      ],
      "source": [
        "# This example returns the items from index -4 (included) to index -1 (excluded)\n",
        "\n",
        "thistuple = (\"apple\", \"banana\", \"cherry\", \"orange\", \"kiwi\", \"melon\", \"mango\")\n",
        "print(thistuple[-4:-1])"
      ]
    },
    {
      "cell_type": "markdown",
      "id": "3f196633-ebf7-49f5-b49d-00deb58df385",
      "metadata": {
        "id": "3f196633-ebf7-49f5-b49d-00deb58df385"
      },
      "source": [
        "# Check if Item Exists"
      ]
    },
    {
      "cell_type": "code",
      "execution_count": null,
      "id": "dd7fbbf6-88d5-4166-9a05-7f206569ec63",
      "metadata": {
        "id": "dd7fbbf6-88d5-4166-9a05-7f206569ec63",
        "outputId": "289c8752-e7ba-4b22-b1e8-9692bfc948f0"
      },
      "outputs": [
        {
          "name": "stdout",
          "output_type": "stream",
          "text": [
            "Yes, 'apple' is in the fruits tuple\n"
          ]
        }
      ],
      "source": [
        "# Check if \"apple\" is present in the tuple:\n",
        "\n",
        "thistuple = (\"apple\", \"banana\", \"cherry\")\n",
        "if \"apple\" in thistuple:\n",
        "  print(\"Yes, 'apple' is in the fruits tuple\")"
      ]
    },
    {
      "cell_type": "markdown",
      "id": "99014b75-9b35-4cce-8e6e-e58af929250a",
      "metadata": {
        "id": "99014b75-9b35-4cce-8e6e-e58af929250a"
      },
      "source": [
        "# Python - Update Tuples\n",
        "\n",
        "# Change Tuple Values\n"
      ]
    },
    {
      "cell_type": "code",
      "execution_count": null,
      "id": "ad83f906-dd4e-42a5-bc74-aad01527076d",
      "metadata": {
        "id": "ad83f906-dd4e-42a5-bc74-aad01527076d",
        "outputId": "05047412-b55f-42f7-ef54-c65964e396ef"
      },
      "outputs": [
        {
          "name": "stdout",
          "output_type": "stream",
          "text": [
            "('apple', 'kiwi', 'cherry')\n"
          ]
        }
      ],
      "source": [
        "# Convert the tuple into a list to be able to change it:\n",
        "\n",
        "x = (\"apple\", \"banana\", \"cherry\")\n",
        "y = list(x)\n",
        "y[1] = \"kiwi\"\n",
        "x = tuple(y)\n",
        "\n",
        "print(x)"
      ]
    },
    {
      "cell_type": "markdown",
      "id": "282d008d-f5a5-4a72-99a5-a3d7b8281f3a",
      "metadata": {
        "id": "282d008d-f5a5-4a72-99a5-a3d7b8281f3a"
      },
      "source": [
        "# Add Items"
      ]
    },
    {
      "cell_type": "code",
      "execution_count": null,
      "id": "fea231c3-5eaf-4d7c-9eef-824444d4874d",
      "metadata": {
        "id": "fea231c3-5eaf-4d7c-9eef-824444d4874d",
        "outputId": "a42e2447-bcbc-4ef6-93bd-fff8e9a0c380"
      },
      "outputs": [
        {
          "name": "stdout",
          "output_type": "stream",
          "text": [
            "('apple', 'banana', 'cherry', 'orange')\n"
          ]
        }
      ],
      "source": [
        "#Convert the tuple into a list, add \"orange\", and convert it back into a tuple:\n",
        "\n",
        "thistuple = (\"apple\", \"banana\", \"cherry\")\n",
        "y = list(thistuple)\n",
        "y.append(\"orange\")\n",
        "thistuple = tuple(y)\n",
        "print(thistuple)"
      ]
    },
    {
      "cell_type": "code",
      "execution_count": null,
      "id": "3614654b-8425-4f21-9272-e62d5d81270b",
      "metadata": {
        "id": "3614654b-8425-4f21-9272-e62d5d81270b",
        "outputId": "6df655d4-f0c3-4475-9088-e7c759ccd913"
      },
      "outputs": [
        {
          "name": "stdout",
          "output_type": "stream",
          "text": [
            "('apple', 'banana', 'cherry', 'orange')\n"
          ]
        }
      ],
      "source": [
        "# 2. Add tuple to a tuple. You are allowed to add tuples to tuples, so if you want to add one item, (or many), create a new tuple with the item(s), and add it to the existing tuple:\n",
        "# Create a new tuple with the value \"orange\", and add that tuple:\n",
        "thistuple = (\"apple\", \"banana\", \"cherry\")\n",
        "y = (\"orange\",)\n",
        "thistuple += y\n",
        "\n",
        "print(thistuple)\n"
      ]
    },
    {
      "cell_type": "markdown",
      "id": "4b70d27a-bf51-48cc-9616-59f134863bb9",
      "metadata": {
        "id": "4b70d27a-bf51-48cc-9616-59f134863bb9"
      },
      "source": [
        "# Remove Items\n"
      ]
    },
    {
      "cell_type": "code",
      "execution_count": null,
      "id": "f1c70e45-578a-4e04-9818-660c7da15cdf",
      "metadata": {
        "id": "f1c70e45-578a-4e04-9818-660c7da15cdf",
        "outputId": "eec2b193-ccc2-464a-cb53-452458a62f96"
      },
      "outputs": [
        {
          "name": "stdout",
          "output_type": "stream",
          "text": [
            "('banana', 'cherry')\n"
          ]
        }
      ],
      "source": [
        "# Convert the tuple into a list, remove \"apple\", and convert it back into a tuple:\n",
        "\n",
        "thistuple = (\"apple\", \"banana\", \"cherry\")\n",
        "y = list(thistuple)\n",
        "y.remove(\"apple\")\n",
        "thistuple = tuple(y)\n",
        "print(thistuple)"
      ]
    },
    {
      "cell_type": "code",
      "execution_count": null,
      "id": "6c3f8b00-c9b6-4b87-870d-ff501ece5d0e",
      "metadata": {
        "id": "6c3f8b00-c9b6-4b87-870d-ff501ece5d0e",
        "outputId": "c8faf1c1-ee41-40ee-b74f-4470cc3449a8"
      },
      "outputs": [
        {
          "ename": "NameError",
          "evalue": "name 'thistuple' is not defined",
          "output_type": "error",
          "traceback": [
            "\u001b[0;31m---------------------------------------------------------------------------\u001b[0m",
            "\u001b[0;31mNameError\u001b[0m                                 Traceback (most recent call last)",
            "Cell \u001b[0;32mIn[8], line 5\u001b[0m\n\u001b[1;32m      3\u001b[0m thistuple \u001b[38;5;241m=\u001b[39m (\u001b[38;5;124m\"\u001b[39m\u001b[38;5;124mapple\u001b[39m\u001b[38;5;124m\"\u001b[39m, \u001b[38;5;124m\"\u001b[39m\u001b[38;5;124mbanana\u001b[39m\u001b[38;5;124m\"\u001b[39m, \u001b[38;5;124m\"\u001b[39m\u001b[38;5;124mcherry\u001b[39m\u001b[38;5;124m\"\u001b[39m)\n\u001b[1;32m      4\u001b[0m \u001b[38;5;28;01mdel\u001b[39;00m thistuple\n\u001b[0;32m----> 5\u001b[0m \u001b[38;5;28mprint\u001b[39m(thistuple)\n",
            "\u001b[0;31mNameError\u001b[0m: name 'thistuple' is not defined"
          ]
        }
      ],
      "source": [
        "# The del keyword can delete the tuple completely:\n",
        "\n",
        "thistuple = (\"apple\", \"banana\", \"cherry\")\n",
        "del thistuple\n",
        "print(thistuple) #this will raise an error because the tuple no longer exists"
      ]
    },
    {
      "cell_type": "markdown",
      "id": "6bc47c20-1e25-4558-b79d-181c9e6658f4",
      "metadata": {
        "id": "6bc47c20-1e25-4558-b79d-181c9e6658f4"
      },
      "source": [
        "# Traversing Items of Python Tuples\n",
        "Like List Traversal, we can traverse through a tuple using for loop."
      ]
    },
    {
      "cell_type": "code",
      "execution_count": null,
      "id": "2ba33f4a-a688-45bd-9d05-20d9644df515",
      "metadata": {
        "id": "2ba33f4a-a688-45bd-9d05-20d9644df515",
        "outputId": "3a14acd3-772c-4ba6-c580-66a0e846d908"
      },
      "outputs": [
        {
          "name": "stdout",
          "output_type": "stream",
          "text": [
            "1 2 3 4 5 "
          ]
        }
      ],
      "source": [
        " #Define a tuple\n",
        "tup = (1, 2, 3, 4, 5)\n",
        "\n",
        "# Traverse through each item in the tuple\n",
        "for x in tup:\n",
        "    print(x, end=\" \")"
      ]
    },
    {
      "cell_type": "markdown",
      "id": "933667b2-f4bc-4fd5-a53c-ed489f623a99",
      "metadata": {
        "id": "933667b2-f4bc-4fd5-a53c-ed489f623a99"
      },
      "source": [
        "# Concatenation of Python Tuples"
      ]
    },
    {
      "cell_type": "code",
      "execution_count": null,
      "id": "2387c60f-b89f-4adf-86ba-a0a28e692abd",
      "metadata": {
        "id": "2387c60f-b89f-4adf-86ba-a0a28e692abd",
        "outputId": "284c2e14-412b-412e-b508-ca4356f6934d"
      },
      "outputs": [
        {
          "name": "stdout",
          "output_type": "stream",
          "text": [
            "(0, 1, 2, 3, 'python', 'geek')\n"
          ]
        }
      ],
      "source": [
        "# Code for concatenating 2 tuples\n",
        "tup1 = (0, 1, 2, 3)\n",
        "tup2 = ('python', 'geek')\n",
        "\n",
        "# Concatenating above two\n",
        "print(tup1 + tup2)"
      ]
    },
    {
      "cell_type": "markdown",
      "id": "3a313d39-6e75-4f40-a96f-1e26486000c2",
      "metadata": {
        "id": "3a313d39-6e75-4f40-a96f-1e26486000c2"
      },
      "source": [
        "# Nesting of Python Tuples\n"
      ]
    },
    {
      "cell_type": "code",
      "execution_count": null,
      "id": "13739e13-77d7-44f2-a0da-76029af406d9",
      "metadata": {
        "id": "13739e13-77d7-44f2-a0da-76029af406d9",
        "outputId": "a1adac00-7077-427c-f37d-863119ad624d"
      },
      "outputs": [
        {
          "name": "stdout",
          "output_type": "stream",
          "text": [
            "((0, 1, 2, 3), ('python', 'geek'))\n"
          ]
        }
      ],
      "source": [
        "# Code for creating nested tuples\n",
        "tup1 = (0, 1, 2, 3)\n",
        "tup2 = ('python', 'geek')\n",
        "\n",
        "tup3 = (tup1, tup2)\n",
        "print(tup3)\n"
      ]
    },
    {
      "cell_type": "markdown",
      "id": "e036e8fa-58e7-4057-b71c-ac3b1bf4855c",
      "metadata": {
        "id": "e036e8fa-58e7-4057-b71c-ac3b1bf4855c"
      },
      "source": [
        "# Repetition Python Tuples"
      ]
    },
    {
      "cell_type": "code",
      "execution_count": null,
      "id": "c517729f-8013-4707-9ade-e3d4dff325b4",
      "metadata": {
        "id": "c517729f-8013-4707-9ade-e3d4dff325b4",
        "outputId": "fc7d3091-44f9-40cc-81fb-7d5578714b4e"
      },
      "outputs": [
        {
          "name": "stdout",
          "output_type": "stream",
          "text": [
            "('python', 'python', 'python')\n"
          ]
        }
      ],
      "source": [
        "# Code to create a tuple with repetition\n",
        "tup = ('python',)*3\n",
        "print(tup)\n"
      ]
    },
    {
      "cell_type": "markdown",
      "id": "726d6a52-e253-4ec1-af29-09e26b117d8f",
      "metadata": {
        "id": "726d6a52-e253-4ec1-af29-09e26b117d8f"
      },
      "source": [
        "# Slicing Tuples in Python"
      ]
    },
    {
      "cell_type": "code",
      "execution_count": null,
      "id": "e5a8b7aa-bce1-4762-a861-db126cd3223c",
      "metadata": {
        "id": "e5a8b7aa-bce1-4762-a861-db126cd3223c",
        "outputId": "0b6d08b0-6350-4ce1-998b-d02f9974021a"
      },
      "outputs": [
        {
          "name": "stdout",
          "output_type": "stream",
          "text": [
            "(1, 2, 3)\n",
            "(3, 2, 1, 0)\n",
            "(2, 3)\n"
          ]
        }
      ],
      "source": [
        "# code to test slicing\n",
        "tup = (0 ,1, 2, 3)\n",
        "\n",
        "print(tup[1:])\n",
        "print(tup[::-1])\n",
        "print(tup[2:4])"
      ]
    },
    {
      "cell_type": "markdown",
      "id": "c8e69463-3ada-4b0f-b490-ad8994102bc8",
      "metadata": {
        "id": "c8e69463-3ada-4b0f-b490-ad8994102bc8"
      },
      "source": [
        "# Finding the Length of a Python Tuple"
      ]
    },
    {
      "cell_type": "code",
      "execution_count": null,
      "id": "7eab0fe0-8e75-4b16-8a09-6badc7c0efce",
      "metadata": {
        "id": "7eab0fe0-8e75-4b16-8a09-6badc7c0efce",
        "outputId": "df19119f-654f-4647-f5ee-7aded8d520d7"
      },
      "outputs": [
        {
          "name": "stdout",
          "output_type": "stream",
          "text": [
            "2\n"
          ]
        }
      ],
      "source": [
        "# Code for printing the length of a tuple\n",
        "tup = ('python', 'geek')\n",
        "print(len(tup))"
      ]
    },
    {
      "cell_type": "markdown",
      "id": "f157403f-fcc7-42fe-ad32-023d89306003",
      "metadata": {
        "id": "f157403f-fcc7-42fe-ad32-023d89306003"
      },
      "source": [
        "# Multiple Data Types With Tuple\n",
        "\n",
        "\n"
      ]
    },
    {
      "cell_type": "code",
      "execution_count": null,
      "id": "bd720525-52ca-441d-b8ed-941560ce7556",
      "metadata": {
        "id": "bd720525-52ca-441d-b8ed-941560ce7556",
        "outputId": "a8de92b0-3622-499f-9b65-571a35560151"
      },
      "outputs": [
        {
          "name": "stdout",
          "output_type": "stream",
          "text": [
            "('immutable', True, 23)\n"
          ]
        }
      ],
      "source": [
        "# tuple with different datatypes\n",
        "tup = (\"immutable\", True, 23)\n",
        "print(tup)"
      ]
    },
    {
      "cell_type": "markdown",
      "id": "51a6e335-4729-4b9a-9a7f-c44fb2b55f06",
      "metadata": {
        "id": "51a6e335-4729-4b9a-9a7f-c44fb2b55f06"
      },
      "source": [
        "# Converting a List to a Tuple"
      ]
    },
    {
      "cell_type": "code",
      "execution_count": null,
      "id": "deb723e7-4430-4cdc-9016-1ecbe789ece4",
      "metadata": {
        "id": "deb723e7-4430-4cdc-9016-1ecbe789ece4",
        "outputId": "0ae44be1-7e30-4c9d-b8d5-cbf2334b5fc0"
      },
      "outputs": [
        {
          "name": "stdout",
          "output_type": "stream",
          "text": [
            "(0, 1, 2)\n"
          ]
        }
      ],
      "source": [
        "# Code for converting a list and a string into a tuple\n",
        "a = [0, 1, 2]\n",
        "tup = tuple(a)\n",
        "\n",
        "print(tup)\n"
      ]
    },
    {
      "cell_type": "markdown",
      "id": "cc591567-396f-4cbd-a2e5-d7ad87a53ec3",
      "metadata": {
        "id": "cc591567-396f-4cbd-a2e5-d7ad87a53ec3"
      },
      "source": [
        "# Unpacking a Tuple in Python\n",
        "\n",
        "\n",
        "\n"
      ]
    },
    {
      "cell_type": "code",
      "execution_count": null,
      "id": "4b818824-98c1-43eb-aa96-8072baf5a6d2",
      "metadata": {
        "id": "4b818824-98c1-43eb-aa96-8072baf5a6d2",
        "outputId": "3be21dce-ae30-4673-a9df-545958a8c361"
      },
      "outputs": [
        {
          "name": "stdout",
          "output_type": "stream",
          "text": [
            "100\n",
            "200\n",
            "300\n"
          ]
        }
      ],
      "source": [
        "a, b, c = (100, 200, 300)\n",
        "\n",
        "print(a)\n",
        "print(b)\n",
        "print(c)"
      ]
    },
    {
      "cell_type": "markdown",
      "id": "de59beb1-734e-4351-960a-c48d79758689",
      "metadata": {
        "id": "de59beb1-734e-4351-960a-c48d79758689"
      },
      "source": []
    },
    {
      "cell_type": "markdown",
      "id": "df0954e4-c699-4504-8176-751c49a7fd3c",
      "metadata": {
        "id": "df0954e4-c699-4504-8176-751c49a7fd3c"
      },
      "source": [
        "# Tuple Unpacking Techniques"
      ]
    },
    {
      "cell_type": "code",
      "execution_count": null,
      "id": "4b3838bb-1878-4a1b-b03b-8fa7348f0665",
      "metadata": {
        "id": "4b3838bb-1878-4a1b-b03b-8fa7348f0665",
        "outputId": "92672db5-2101-47ea-f8bf-0f4201bc2285"
      },
      "outputs": [
        {
          "name": "stdout",
          "output_type": "stream",
          "text": [
            "100\n",
            "300\n"
          ]
        }
      ],
      "source": [
        "a, _, c = (100, 200, 300)\n",
        "print(a)\n",
        "print(c)\n"
      ]
    },
    {
      "cell_type": "markdown",
      "id": "f782a944-2904-429a-8672-2b6e0b7661bc",
      "metadata": {
        "id": "f782a944-2904-429a-8672-2b6e0b7661bc"
      },
      "source": [
        "# 2. Using * for Variable-Length Unpacking\n",
        "\n",
        "\n",
        "\n"
      ]
    },
    {
      "cell_type": "code",
      "execution_count": null,
      "id": "1fabfe6e-a982-494b-82c1-cfa017e2a01e",
      "metadata": {
        "id": "1fabfe6e-a982-494b-82c1-cfa017e2a01e",
        "outputId": "afaf7d2c-f5a9-4ba8-cdb1-6d93b7d0d64e"
      },
      "outputs": [
        {
          "name": "stdout",
          "output_type": "stream",
          "text": [
            "1\n",
            "[2, 3, 4, 5]\n"
          ]
        }
      ],
      "source": [
        "a, *b = (1, 2, 3, 4, 5)\n",
        "print(a)\n",
        "print(b)\n"
      ]
    },
    {
      "cell_type": "code",
      "execution_count": null,
      "id": "3d03457b-343c-4a32-8975-2e48940cdec1",
      "metadata": {
        "id": "3d03457b-343c-4a32-8975-2e48940cdec1",
        "outputId": "4d8ff9cd-1b5e-4320-b998-8cd25ead2f91"
      },
      "outputs": [
        {
          "name": "stdout",
          "output_type": "stream",
          "text": [
            "apple\n",
            "banana\n",
            "['cherry', 'strawberry', 'raspberry']\n"
          ]
        }
      ],
      "source": [
        "fruits = (\"apple\", \"banana\", \"cherry\", \"strawberry\", \"raspberry\")\n",
        "\n",
        "(green, yellow, *red) = fruits\n",
        "\n",
        "print(green)\n",
        "print(yellow)\n",
        "print(red)"
      ]
    },
    {
      "cell_type": "code",
      "execution_count": null,
      "id": "998db577-1614-468e-9943-353fbb2c2c2b",
      "metadata": {
        "id": "998db577-1614-468e-9943-353fbb2c2c2b",
        "outputId": "c50c6c66-6902-4aa4-dbcf-abe6204ca73e"
      },
      "outputs": [
        {
          "name": "stdout",
          "output_type": "stream",
          "text": [
            "apple\n",
            "['mango', 'papaya', 'pineapple']\n",
            "cherry\n"
          ]
        }
      ],
      "source": [
        "fruits = (\"apple\", \"mango\", \"papaya\", \"pineapple\", \"cherry\")\n",
        "\n",
        "(green, *tropic, red) = fruits\n",
        "\n",
        "print(green)\n",
        "print(tropic)\n",
        "print(red)"
      ]
    },
    {
      "cell_type": "markdown",
      "id": "20356714-12b0-4804-9e38-b4032685fb1e",
      "metadata": {
        "id": "20356714-12b0-4804-9e38-b4032685fb1e"
      },
      "source": [
        "# 3. Unpacking Nested Tuples\n",
        "Tuples inside tuples can also be unpacked:"
      ]
    },
    {
      "cell_type": "code",
      "execution_count": null,
      "id": "19dcd8dd-c8d9-4528-8f72-4f590889daba",
      "metadata": {
        "id": "19dcd8dd-c8d9-4528-8f72-4f590889daba",
        "outputId": "70fcf9e4-9e6e-4b42-e63f-f293531c31f6"
      },
      "outputs": [
        {
          "name": "stdout",
          "output_type": "stream",
          "text": [
            "1\n",
            "2\n",
            "3\n",
            "4\n"
          ]
        }
      ],
      "source": [
        "nested_tuple = (1, (2, 3), 4)\n",
        "a, (b, c), d = nested_tuple\n",
        "\n",
        "print(a)\n",
        "print(b)\n",
        "print(c)\n",
        "print(d)"
      ]
    },
    {
      "cell_type": "markdown",
      "id": "31ee8c09-8939-4c02-ad70-a4654236e99f",
      "metadata": {
        "id": "31ee8c09-8939-4c02-ad70-a4654236e99f"
      },
      "source": [
        "# 4. Tuple Unpacking with * in Function Arguments"
      ]
    },
    {
      "cell_type": "code",
      "execution_count": null,
      "id": "6bde7e16-09fd-49fb-9967-862b75257a7b",
      "metadata": {
        "id": "6bde7e16-09fd-49fb-9967-862b75257a7b",
        "outputId": "71646665-b0ba-4258-b1f4-751497608f12"
      },
      "outputs": [
        {
          "name": "stdout",
          "output_type": "stream",
          "text": [
            "10\n"
          ]
        }
      ],
      "source": [
        "def add(*args):\n",
        "    return sum(args)\n",
        "\n",
        "print(add(1, 2, 3, 4))"
      ]
    },
    {
      "cell_type": "markdown",
      "id": "83017d72-78b3-469b-a296-4e68c02e5aae",
      "metadata": {
        "id": "83017d72-78b3-469b-a296-4e68c02e5aae"
      },
      "source": [
        "# b. Using * for Argument Unpacking: Tuple unpacking can also be used when calling a function:\n",
        "\n",
        "\n",
        "\n",
        "\n"
      ]
    },
    {
      "cell_type": "code",
      "execution_count": null,
      "id": "fb3c46e3-a286-4512-b19f-8cbde91cbc57",
      "metadata": {
        "id": "fb3c46e3-a286-4512-b19f-8cbde91cbc57",
        "outputId": "6c2eef12-160f-4263-f787-2b4d7a0fe624"
      },
      "outputs": [
        {
          "name": "stdout",
          "output_type": "stream",
          "text": [
            "6\n"
          ]
        }
      ],
      "source": [
        "def add(a, b, c):\n",
        "    return a + b + c\n",
        "\n",
        "nums = (1, 2, 3)\n",
        "print(add(*nums))"
      ]
    },
    {
      "cell_type": "markdown",
      "id": "a258e4a9-f454-4c04-a8d6-569e8fa690e1",
      "metadata": {
        "id": "a258e4a9-f454-4c04-a8d6-569e8fa690e1"
      },
      "source": [
        "# Loop Through a Tuple"
      ]
    },
    {
      "cell_type": "code",
      "execution_count": null,
      "id": "0d6161f2-ae52-41fc-a51c-ce115f28edcf",
      "metadata": {
        "id": "0d6161f2-ae52-41fc-a51c-ce115f28edcf",
        "outputId": "33fe83ef-f42f-4d8f-f032-dd76baa58e4d"
      },
      "outputs": [
        {
          "name": "stdout",
          "output_type": "stream",
          "text": [
            "apple\n",
            "banana\n",
            "cherry\n"
          ]
        }
      ],
      "source": [
        "# Iterate through the items and print the values:\n",
        "\n",
        "thistuple = (\"apple\", \"banana\", \"cherry\")\n",
        "for x in thistuple:\n",
        "  print(x)"
      ]
    },
    {
      "cell_type": "markdown",
      "id": "6302088d-2a56-4f5f-8c0e-f07e874dc75d",
      "metadata": {
        "id": "6302088d-2a56-4f5f-8c0e-f07e874dc75d"
      },
      "source": [
        "# Loop Through the Index Numbers\n"
      ]
    },
    {
      "cell_type": "code",
      "execution_count": null,
      "id": "e9af96ae-c1e2-43d2-97f6-0d4c02d31031",
      "metadata": {
        "id": "e9af96ae-c1e2-43d2-97f6-0d4c02d31031",
        "outputId": "ead47627-3be6-4460-f580-42363620b195"
      },
      "outputs": [
        {
          "name": "stdout",
          "output_type": "stream",
          "text": [
            "apple\n",
            "banana\n",
            "cherry\n"
          ]
        }
      ],
      "source": [
        "# Print all items by referring to their index number:\n",
        "\n",
        "thistuple = (\"apple\", \"banana\", \"cherry\")\n",
        "for i in range(len(thistuple)):\n",
        "  print(thistuple[i])"
      ]
    },
    {
      "cell_type": "code",
      "execution_count": null,
      "id": "ba777967-2b5d-4e0a-bf9d-b65ed125eea9",
      "metadata": {
        "id": "ba777967-2b5d-4e0a-bf9d-b65ed125eea9",
        "outputId": "37d95915-016f-4d6f-dd40-8cea4c3a21c2"
      },
      "outputs": [
        {
          "name": "stdout",
          "output_type": "stream",
          "text": [
            "Index 0: red\n",
            "Index 1: green\n",
            "Index 2: blue\n",
            "Index 3: yellow\n"
          ]
        }
      ],
      "source": [
        "t = ('red', 'green', 'blue', 'yellow')\n",
        "\n",
        "# Here, i and color stores the index and value respectively\n",
        "for i, color in enumerate(t):\n",
        "    print(f\"Index {i}: {color}\")"
      ]
    },
    {
      "cell_type": "markdown",
      "id": "bfc654ba-7188-483b-87a0-bac52f87db17",
      "metadata": {
        "id": "bfc654ba-7188-483b-87a0-bac52f87db17"
      },
      "source": [
        "# Using a While Loop"
      ]
    },
    {
      "cell_type": "code",
      "execution_count": null,
      "id": "e7665d0d-e828-4d01-b565-ca2ea63b76a1",
      "metadata": {
        "id": "e7665d0d-e828-4d01-b565-ca2ea63b76a1",
        "outputId": "6c513a84-7545-40f8-d395-6edcbfdff9d3"
      },
      "outputs": [
        {
          "name": "stdout",
          "output_type": "stream",
          "text": [
            "apple\n",
            "banana\n",
            "cherry\n"
          ]
        }
      ],
      "source": [
        "# Print all items, using a while loop to go through all the index numbers:\n",
        "\n",
        "thistuple = (\"apple\", \"banana\", \"cherry\")\n",
        "i = 0\n",
        "while i < len(thistuple):\n",
        "  print(thistuple[i])\n",
        "  i = i + 1"
      ]
    },
    {
      "cell_type": "code",
      "execution_count": null,
      "id": "2c839a7d-2183-4629-b5c4-4d363f213c4f",
      "metadata": {
        "id": "2c839a7d-2183-4629-b5c4-4d363f213c4f",
        "outputId": "6d456e7b-0d97-4781-d609-255708f7e839"
      },
      "outputs": [
        {
          "name": "stdout",
          "output_type": "stream",
          "text": [
            "red\n",
            "green\n",
            "blue\n",
            "yellow\n"
          ]
        }
      ],
      "source": [
        "t = ('red', 'green', 'blue', 'yellow')\n",
        "\n",
        "# Start from the first index\n",
        "i = 0\n",
        "\n",
        "# Loops till the last index (i.e., 3)\n",
        "while i < len(t):\n",
        "    print(t[i])\n",
        "    i += 1"
      ]
    },
    {
      "cell_type": "markdown",
      "id": "1149c5dc-3ec4-4377-91e9-aae1c3c99977",
      "metadata": {
        "id": "1149c5dc-3ec4-4377-91e9-aae1c3c99977"
      },
      "source": [
        "# Join Two Tuples"
      ]
    },
    {
      "cell_type": "code",
      "execution_count": null,
      "id": "d7599a41-63f5-4659-a616-c4e010468706",
      "metadata": {
        "id": "d7599a41-63f5-4659-a616-c4e010468706",
        "outputId": "585d335d-7ee1-4f45-e8e3-2d126f1708b0"
      },
      "outputs": [
        {
          "name": "stdout",
          "output_type": "stream",
          "text": [
            "('a', 'b', 'c', 1, 2, 3)\n"
          ]
        }
      ],
      "source": [
        "tuple1 = (\"a\", \"b\" , \"c\")\n",
        "tuple2 = (1, 2, 3)\n",
        "\n",
        "tuple3 = tuple1 + tuple2\n",
        "print(tuple3)"
      ]
    },
    {
      "cell_type": "markdown",
      "id": "fa14fc04-70f4-40b7-8778-439d00127a4f",
      "metadata": {
        "id": "fa14fc04-70f4-40b7-8778-439d00127a4f"
      },
      "source": [
        "# Joining Tuples Using List Comprehension"
      ]
    },
    {
      "cell_type": "code",
      "execution_count": null,
      "id": "b51d0f7a-a4e9-4223-aa26-ba15574d8793",
      "metadata": {
        "id": "b51d0f7a-a4e9-4223-aa26-ba15574d8793",
        "outputId": "2808b270-41cb-424d-e1ab-bb21566ed80d"
      },
      "outputs": [
        {
          "name": "stdout",
          "output_type": "stream",
          "text": [
            "Joined Tuple: [36, 24, 3, 84, 5, 81]\n"
          ]
        }
      ],
      "source": [
        "# In this example, we are joining two tuples, T1 and T2, into a single tuple using list comprehension. The resulting tuple, joined_tuple, contains all elements from both T1 and T2 −\n",
        "\n",
        "\n",
        "# Two tuples to be joined\n",
        "T1 = (36, 24, 3)\n",
        "T2 = (84, 5, 81)\n",
        "# Joining the tuples using list comprehension\n",
        "joined_tuple = [item for subtuple in [T1, T2] for item in subtuple]\n",
        "# Printing the joined tuple\n",
        "print(\"Joined Tuple:\", joined_tuple)\n"
      ]
    },
    {
      "cell_type": "markdown",
      "id": "8706b109-cc2b-4db4-875b-3480749d6859",
      "metadata": {
        "id": "8706b109-cc2b-4db4-875b-3480749d6859"
      },
      "source": [
        "# Joining Tuples Using extend() Function"
      ]
    },
    {
      "cell_type": "code",
      "execution_count": null,
      "id": "45447d66-42a5-45ee-9e7b-2ededd7a82a8",
      "metadata": {
        "id": "45447d66-42a5-45ee-9e7b-2ededd7a82a8"
      },
      "outputs": [],
      "source": []
    },
    {
      "cell_type": "code",
      "execution_count": null,
      "id": "5c80c309-f657-4d9f-af16-b0dd598d283b",
      "metadata": {
        "id": "5c80c309-f657-4d9f-af16-b0dd598d283b",
        "outputId": "a0b70abd-01fb-4054-8cd8-d7fb94d56e15"
      },
      "outputs": [
        {
          "name": "stdout",
          "output_type": "stream",
          "text": [
            "Joined Tuple: (10, 20, 30, 40, 'one', 'two', 'three', 'four')\n"
          ]
        }
      ],
      "source": [
        "#In the following example, we are extending the first tuple \"T1\" by converting it into a list \"L1\", then adding elements from the second tuple \"T2\" by first converting it into a list \"L2\", and finally converting the merged list back into a tuple, effectively joining the two tuples −\n",
        "\n",
        "T1 = (10,20,30,40)\n",
        "T2 = ('one', 'two', 'three', 'four')\n",
        "L1 = list(T1)\n",
        "L2 = list(T2)\n",
        "L1.extend(L2)\n",
        "T1 = tuple(L1)\n",
        "print (\"Joined Tuple:\", T1)"
      ]
    },
    {
      "cell_type": "markdown",
      "id": "793f4f0a-916c-4f6f-bd8e-1b52a192eaa9",
      "metadata": {
        "id": "793f4f0a-916c-4f6f-bd8e-1b52a192eaa9"
      },
      "source": [
        "# Join Tuples using sum() Function\n",
        "\n"
      ]
    },
    {
      "cell_type": "code",
      "execution_count": null,
      "id": "b4985f4a-e19c-45f1-9731-dddbba54fa52",
      "metadata": {
        "id": "b4985f4a-e19c-45f1-9731-dddbba54fa52"
      },
      "outputs": [],
      "source": [
        "# In this example, the elements of the first tuple are first appended to an empty tuple. Then elements from the second tuple are appended, resulting in a new tuple that is a concatenation of the two −"
      ]
    },
    {
      "cell_type": "code",
      "execution_count": null,
      "id": "5bfd0b72-1aeb-4911-b7cd-41d9eb19b952",
      "metadata": {
        "id": "5bfd0b72-1aeb-4911-b7cd-41d9eb19b952",
        "outputId": "8a476670-9a89-485d-a11c-f350761563b1"
      },
      "outputs": [
        {
          "name": "stdout",
          "output_type": "stream",
          "text": [
            "Joined Tuple: (10, 20, 30, 40, 'one', 'two', 'three', 'four')\n"
          ]
        }
      ],
      "source": [
        "T1 = (10,20,30,40)\n",
        "T2 = ('one', 'two', 'three', 'four')\n",
        "T3 = sum((T1, T2), ())\n",
        "print (\"Joined Tuple:\", T3)"
      ]
    },
    {
      "cell_type": "markdown",
      "id": "b947c769-8d2a-4a47-97fe-4a93af25f953",
      "metadata": {
        "id": "b947c769-8d2a-4a47-97fe-4a93af25f953"
      },
      "source": [
        "# Multiply Tuples"
      ]
    },
    {
      "cell_type": "code",
      "execution_count": null,
      "id": "71587d9c-1279-400e-a1f1-50ddbfc5138e",
      "metadata": {
        "id": "71587d9c-1279-400e-a1f1-50ddbfc5138e",
        "outputId": "ef6c4215-97dc-48f8-b35f-d7b3d837d0ff"
      },
      "outputs": [
        {
          "name": "stdout",
          "output_type": "stream",
          "text": [
            "('apple', 'banana', 'cherry', 'apple', 'banana', 'cherry')\n"
          ]
        }
      ],
      "source": [
        "# Multiply the fruits tuple by 2:\n",
        "\n",
        "fruits = (\"apple\", \"banana\", \"cherry\")\n",
        "mytuple = fruits * 2\n",
        "\n",
        "print(mytuple)\n"
      ]
    },
    {
      "cell_type": "markdown",
      "id": "098b9ffb-5bc2-453e-98f3-0cb9f8c551ed",
      "metadata": {
        "id": "098b9ffb-5bc2-453e-98f3-0cb9f8c551ed"
      },
      "source": [
        "# Joining Tuples using for Loop"
      ]
    },
    {
      "cell_type": "code",
      "execution_count": null,
      "id": "4be80e6f-ffda-4c0c-8c44-0dd8ecd7d0b9",
      "metadata": {
        "id": "4be80e6f-ffda-4c0c-8c44-0dd8ecd7d0b9",
        "outputId": "09926ed7-82f2-4f67-cec8-9fc01a8a1ed8"
      },
      "outputs": [
        {
          "name": "stdout",
          "output_type": "stream",
          "text": [
            "(10, 20, 30, 40, 'one', 'two', 'three', 'four')\n"
          ]
        }
      ],
      "source": [
        "# In the following example, we are iterating over each element in tuple T2, and for each element, we are appending it to tuple T1, effectively joining the two tuples −\n",
        "T1 = (10,20,30,40)\n",
        "T2 = ('one', 'two', 'three', 'four')\n",
        "for t in T2:\n",
        "   T1+=(t,)\n",
        "print (T1)"
      ]
    },
    {
      "cell_type": "markdown",
      "id": "42208cda-eca1-4d56-93b5-eb218e32a12e",
      "metadata": {
        "id": "42208cda-eca1-4d56-93b5-eb218e32a12e"
      },
      "source": [
        "# Tuple Methods"
      ]
    },
    {
      "cell_type": "markdown",
      "id": "d02ecf34-b339-4233-8cbd-44e8951b465f",
      "metadata": {
        "id": "d02ecf34-b339-4233-8cbd-44e8951b465f"
      },
      "source": [
        "# Count() Method"
      ]
    },
    {
      "cell_type": "code",
      "execution_count": null,
      "id": "e09837a4-e27b-43a9-94e0-6906863b3937",
      "metadata": {
        "id": "e09837a4-e27b-43a9-94e0-6906863b3937",
        "outputId": "7e9c3893-18f9-4bcf-95e6-7b45812e47ea"
      },
      "outputs": [
        {
          "name": "stdout",
          "output_type": "stream",
          "text": [
            "Count of 3 in Tuple1 is: 3\n",
            "Count of Python in Tuple2 is: 3\n"
          ]
        }
      ],
      "source": [
        "# Using the Tuple count() method\n",
        "# Creating tuples\n",
        "Tuple1 = (0, 1, 2, 3, 2, 3, 1, 3, 2)\n",
        "Tuple2 = ('python', 'geek', 'python',\n",
        "          'for', 'java', 'python')\n",
        "  # count the appearance of 3\n",
        "res = Tuple1.count(3)\n",
        "print('Count of 3 in Tuple1 is:', res)\n",
        "\n",
        "# count the appearance of python\n",
        "res = Tuple2.count('python')\n",
        "print('Count of Python in Tuple2 is:', res)"
      ]
    },
    {
      "cell_type": "code",
      "execution_count": null,
      "id": "26ccc7a6-9346-4479-98f1-b379e7bc1317",
      "metadata": {
        "id": "26ccc7a6-9346-4479-98f1-b379e7bc1317",
        "outputId": "92638483-9f04-46d4-99d9-fede10d01f06"
      },
      "outputs": [
        {
          "name": "stdout",
          "output_type": "stream",
          "text": [
            "Count of (2, 3) in Tuple is: 2\n",
            "Count of [3, 2] in Tuple is: 1\n"
          ]
        }
      ],
      "source": [
        "#Counting tuples and lists as elements in Tuples\n",
        "# Creating tuples\n",
        "Tuple = (0, 1, (2, 3), (2, 3), 1,\n",
        "         [3, 2], 'geeks', (0,))\n",
        "\n",
        "# count the appearance of (2, 3)\n",
        "res = Tuple.count((2, 3))\n",
        "print('Count of (2, 3) in Tuple is:', res)\n",
        "\n",
        "# count the appearance of [3, 2]\n",
        "res = Tuple.count([3, 2])\n",
        "print('Count of [3, 2] in Tuple is:', res)"
      ]
    },
    {
      "cell_type": "markdown",
      "id": "710644f3-a53e-4e65-ad3c-2f1cd0d17bd2",
      "metadata": {
        "id": "710644f3-a53e-4e65-ad3c-2f1cd0d17bd2"
      },
      "source": [
        "# Index() Method"
      ]
    },
    {
      "cell_type": "code",
      "execution_count": null,
      "id": "2ef533ae-5a1f-4fbe-a1eb-e8f1ac0413d5",
      "metadata": {
        "id": "2ef533ae-5a1f-4fbe-a1eb-e8f1ac0413d5",
        "outputId": "99dd543a-508e-495e-ad2e-97d6677e93e7"
      },
      "outputs": [
        {
          "name": "stdout",
          "output_type": "stream",
          "text": [
            "First occurrence of 3 is 3\n",
            "First occurrence of 3 after 4th index is: 5\n"
          ]
        }
      ],
      "source": [
        "# Using Tuple Index() Method\n",
        "# Creating tuples\n",
        "Tuple = (0, 1, 2, 3, 2, 3, 1, 3, 2)\n",
        "\n",
        "# getting the index of 3\n",
        "res = Tuple.index(3)\n",
        "print('First occurrence of 3 is', res)\n",
        "\n",
        "# getting the index of 3 after 4th\n",
        "# index\n",
        "res = Tuple.index(3, 4)\n",
        "print('First occurrence of 3 after 4th index is:', res)"
      ]
    },
    {
      "cell_type": "code",
      "execution_count": null,
      "id": "0ef1d4be-031b-4b81-86c4-f9ece1fc295a",
      "metadata": {
        "id": "0ef1d4be-031b-4b81-86c4-f9ece1fc295a",
        "outputId": "1a4487e0-4e34-4842-cfb7-05e34f5e2134"
      },
      "outputs": [
        {
          "ename": "ValueError",
          "evalue": "tuple.index(x): x not in tuple",
          "output_type": "error",
          "traceback": [
            "\u001b[0;31m---------------------------------------------------------------------------\u001b[0m",
            "\u001b[0;31mValueError\u001b[0m                                Traceback (most recent call last)",
            "Cell \u001b[0;32mIn[49], line 6\u001b[0m\n\u001b[1;32m      3\u001b[0m Tuple \u001b[38;5;241m=\u001b[39m (\u001b[38;5;241m0\u001b[39m, \u001b[38;5;241m1\u001b[39m, \u001b[38;5;241m2\u001b[39m, \u001b[38;5;241m3\u001b[39m, \u001b[38;5;241m2\u001b[39m, \u001b[38;5;241m3\u001b[39m, \u001b[38;5;241m1\u001b[39m, \u001b[38;5;241m3\u001b[39m, \u001b[38;5;241m2\u001b[39m) \n\u001b[1;32m      5\u001b[0m \u001b[38;5;66;03m# getting the index of 3 \u001b[39;00m\n\u001b[0;32m----> 6\u001b[0m res \u001b[38;5;241m=\u001b[39m Tuple\u001b[38;5;241m.\u001b[39mindex(\u001b[38;5;241m4\u001b[39m)\n",
            "\u001b[0;31mValueError\u001b[0m: tuple.index(x): x not in tuple"
          ]
        }
      ],
      "source": [
        "# Using Tuple() method when the element is not found\n",
        "# Creating tuples\n",
        "Tuple = (0, 1, 2, 3, 2, 3, 1, 3, 2)\n",
        "\n",
        "# getting the index of 3\n",
        "res = Tuple.index(4)\n"
      ]
    },
    {
      "cell_type": "code",
      "execution_count": null,
      "id": "96a74e65-3126-46ef-b0a0-54caf19602a1",
      "metadata": {
        "id": "96a74e65-3126-46ef-b0a0-54caf19602a1"
      },
      "outputs": [],
      "source": []
    }
  ],
  "metadata": {
    "colab": {
      "provenance": []
    },
    "kernelspec": {
      "display_name": "Python 3 (ipykernel)",
      "language": "python",
      "name": "python3"
    },
    "language_info": {
      "codemirror_mode": {
        "name": "ipython",
        "version": 3
      },
      "file_extension": ".py",
      "mimetype": "text/x-python",
      "name": "python",
      "nbconvert_exporter": "python",
      "pygments_lexer": "ipython3",
      "version": "3.12.7"
    }
  },
  "nbformat": 4,
  "nbformat_minor": 5
}
