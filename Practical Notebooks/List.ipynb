{
  "cells": [
    {
      "cell_type": "markdown",
      "id": "c4c09dc5-c185-4f5d-8f7c-ea058e6e40bf",
      "metadata": {
        "id": "c4c09dc5-c185-4f5d-8f7c-ea058e6e40bf"
      },
      "source": [
        "# List\n"
      ]
    },
    {
      "cell_type": "code",
      "execution_count": null,
      "id": "1b1dcfef-1b2f-479b-adbe-64ad23523ba7",
      "metadata": {
        "id": "1b1dcfef-1b2f-479b-adbe-64ad23523ba7",
        "outputId": "7df79c77-eb93-44d7-ac59-7244c487352e"
      },
      "outputs": [
        {
          "name": "stdout",
          "output_type": "stream",
          "text": [
            "['apple', 'banana', 'cherry', 'apple', 'cherry']\n"
          ]
        }
      ],
      "source": [
        "thislist = [\"apple\", \"banana\", \"cherry\", \"apple\", \"cherry\"]\n",
        "print(thislist)"
      ]
    },
    {
      "cell_type": "code",
      "execution_count": null,
      "id": "4ef22c4b-510a-4ca5-b393-cfe07a7c6440",
      "metadata": {
        "id": "4ef22c4b-510a-4ca5-b393-cfe07a7c6440",
        "outputId": "8898ed95-2277-49b9-8355-c142da64be9b"
      },
      "outputs": [
        {
          "name": "stdout",
          "output_type": "stream",
          "text": [
            "3\n"
          ]
        }
      ],
      "source": [
        "# List Length To determine how many items a list has, use the len() function:\n",
        "\n",
        "thislist = [\"apple\", \"banana\", \"cherry\"]\n",
        "print(len(thislist))"
      ]
    },
    {
      "cell_type": "code",
      "execution_count": null,
      "id": "e1dfc892-136e-4fb1-89a4-dde3287d8403",
      "metadata": {
        "id": "e1dfc892-136e-4fb1-89a4-dde3287d8403",
        "outputId": "c58362f5-05bd-4d11-d905-92d25fc48341"
      },
      "outputs": [
        {
          "name": "stdout",
          "output_type": "stream",
          "text": [
            "<class 'list'>\n"
          ]
        }
      ],
      "source": [
        "# List items can be of any data type:\n",
        "\n",
        "# Example String, int and boolean data types:\n",
        "\n",
        "list1 = [\"apple\", \"banana\", \"cherry\"]\n",
        "list2 = [1, 5, 7, 9, 3]\n",
        "list3 = [True, False, False]\n",
        "\n",
        "#A list with strings, integers and boolean values:\n",
        "\n",
        "list4 = [\"abc\", 34, True, 40, \"male\"]\n",
        "print(type(list4))"
      ]
    },
    {
      "cell_type": "code",
      "execution_count": null,
      "id": "0b4011ae-cfe2-4382-ba91-fa785f121f6a",
      "metadata": {
        "id": "0b4011ae-cfe2-4382-ba91-fa785f121f6a",
        "outputId": "18269273-6a11-4bfe-daa8-4f4f691d104a"
      },
      "outputs": [
        {
          "name": "stdout",
          "output_type": "stream",
          "text": [
            "['apple', 'banana', 'cherry']\n"
          ]
        }
      ],
      "source": [
        "# The list() Constructor\n",
        "# It is also possible to use the list() constructor when creating a new list.\n",
        "thislist = list((\"apple\", \"banana\", \"cherry\")) # note the double round-brackets\n",
        "print(thislist)\n"
      ]
    },
    {
      "cell_type": "markdown",
      "id": "825e6d82-eb0f-4b62-b642-c2846aac40be",
      "metadata": {
        "id": "825e6d82-eb0f-4b62-b642-c2846aac40be"
      },
      "source": [
        "# Python - Access List Items"
      ]
    },
    {
      "cell_type": "code",
      "execution_count": null,
      "id": "d5797c6f-5395-49d6-85fc-d5efd46bbae4",
      "metadata": {
        "id": "d5797c6f-5395-49d6-85fc-d5efd46bbae4",
        "outputId": "a5829877-9aa8-4ce7-f419-3937de94bd99"
      },
      "outputs": [
        {
          "name": "stdout",
          "output_type": "stream",
          "text": [
            "banana\n"
          ]
        }
      ],
      "source": [
        "thislist = [\"apple\", \"banana\", \"cherry\"]\n",
        "print(thislist[1])\n",
        "# he first item has index 0."
      ]
    },
    {
      "cell_type": "markdown",
      "id": "884644cc-b3e1-489c-a8a3-1d04bdecfae8",
      "metadata": {
        "id": "884644cc-b3e1-489c-a8a3-1d04bdecfae8"
      },
      "source": [
        "# Negative Indexing"
      ]
    },
    {
      "cell_type": "code",
      "execution_count": null,
      "id": "febc3761-7463-4bf2-982b-045d1b93ae54",
      "metadata": {
        "id": "febc3761-7463-4bf2-982b-045d1b93ae54",
        "outputId": "e3d6f3d7-aba8-474f-8983-61b50c170b36"
      },
      "outputs": [
        {
          "name": "stdout",
          "output_type": "stream",
          "text": [
            "cherry\n"
          ]
        }
      ],
      "source": [
        "# Print the last item of the list:\n",
        "\n",
        "thislist = [\"apple\", \"banana\", \"cherry\"]\n",
        "print(thislist[-1])"
      ]
    },
    {
      "cell_type": "markdown",
      "id": "6334731d-990f-4521-a395-bb292fb06682",
      "metadata": {
        "id": "6334731d-990f-4521-a395-bb292fb06682"
      },
      "source": [
        "# Range of Indexes\n"
      ]
    },
    {
      "cell_type": "code",
      "execution_count": null,
      "id": "ab4a7f64-e55a-4c44-920a-22c644d1a69e",
      "metadata": {
        "id": "ab4a7f64-e55a-4c44-920a-22c644d1a69e",
        "outputId": "80abaeb0-d42e-4936-d0d0-7489091232eb"
      },
      "outputs": [
        {
          "name": "stdout",
          "output_type": "stream",
          "text": [
            "['cherry', 'orange', 'kiwi']\n"
          ]
        }
      ],
      "source": [
        "#Return the third, fourth, and fifth item:\n",
        "# Note: The search will start at index 2 (included) and end at index 5 (not included).\n",
        "# Remember that the first item has index 0.\n",
        "\n",
        "thislist = [\"apple\", \"banana\", \"cherry\", \"orange\", \"kiwi\", \"melon\", \"mango\"]\n",
        "print(thislist[2:5])"
      ]
    },
    {
      "cell_type": "code",
      "execution_count": null,
      "id": "1edd18ad-ea3f-4e6f-b745-3336b0f44ff4",
      "metadata": {
        "id": "1edd18ad-ea3f-4e6f-b745-3336b0f44ff4",
        "outputId": "c9ed3ee4-987b-416a-cd33-734bb5bdb9b4"
      },
      "outputs": [
        {
          "name": "stdout",
          "output_type": "stream",
          "text": [
            "['apple', 'banana', 'cherry', 'orange']\n"
          ]
        }
      ],
      "source": [
        "# This example returns the items from the beginning to, but NOT including, \"kiwi\":\n",
        "\n",
        "thislist = [\"apple\", \"banana\", \"cherry\", \"orange\", \"kiwi\", \"melon\", \"mango\"]\n",
        "print(thislist[:4])"
      ]
    },
    {
      "cell_type": "code",
      "execution_count": null,
      "id": "ba43b219-15a2-49d6-9e9b-18cab3d3195b",
      "metadata": {
        "id": "ba43b219-15a2-49d6-9e9b-18cab3d3195b",
        "outputId": "371923bf-ebf8-43a2-8536-bb237025b9dd"
      },
      "outputs": [
        {
          "name": "stdout",
          "output_type": "stream",
          "text": [
            "['cherry', 'orange', 'kiwi', 'melon', 'mango']\n"
          ]
        }
      ],
      "source": [
        "# By leaving out the end value, the range will go on to the end of the list:\n",
        "\n",
        "# This example returns the items from \"cherry\" to the end:\n",
        "\n",
        "thislist = [\"apple\", \"banana\", \"cherry\", \"orange\", \"kiwi\", \"melon\", \"mango\"]\n",
        "print(thislist[2:])"
      ]
    },
    {
      "cell_type": "markdown",
      "id": "87a2d35e-0896-4bb5-a648-054dba4c1ce6",
      "metadata": {
        "id": "87a2d35e-0896-4bb5-a648-054dba4c1ce6"
      },
      "source": [
        "# Range of Negative Indexes"
      ]
    },
    {
      "cell_type": "code",
      "execution_count": null,
      "id": "c682dd60-eba4-47d1-aecb-ebbe673ac8b0",
      "metadata": {
        "id": "c682dd60-eba4-47d1-aecb-ebbe673ac8b0",
        "outputId": "3c6957fe-045e-4fbd-84a9-f5e9ba138695"
      },
      "outputs": [
        {
          "name": "stdout",
          "output_type": "stream",
          "text": [
            "['orange', 'kiwi', 'melon']\n"
          ]
        }
      ],
      "source": [
        "# This example returns the items from \"orange\" (-4) to, but NOT including \"mango\" (-1):\n",
        "\n",
        "thislist = [\"apple\", \"banana\", \"cherry\", \"orange\", \"kiwi\", \"melon\", \"mango\"]\n",
        "print(thislist[-4:-1])"
      ]
    },
    {
      "cell_type": "markdown",
      "id": "adb95d41-61d8-4932-a73f-97b1dc60c2f8",
      "metadata": {
        "id": "adb95d41-61d8-4932-a73f-97b1dc60c2f8"
      },
      "source": [
        "# Check if Item Exists"
      ]
    },
    {
      "cell_type": "code",
      "execution_count": null,
      "id": "842091ea-7e21-41f1-88d3-7b161fcbe5dc",
      "metadata": {
        "id": "842091ea-7e21-41f1-88d3-7b161fcbe5dc",
        "outputId": "50e8fd4d-d93b-4bd6-db58-1f82998d50f2"
      },
      "outputs": [
        {
          "name": "stdout",
          "output_type": "stream",
          "text": [
            "Yes, 'apple' is in the fruits list\n"
          ]
        }
      ],
      "source": [
        "# Check if \"apple\" is present in the list:\n",
        "\n",
        "thislist = [\"apple\", \"banana\", \"cherry\"]\n",
        "if \"apple\" in thislist:\n",
        "  print(\"Yes, 'apple' is in the fruits list\")"
      ]
    },
    {
      "cell_type": "code",
      "execution_count": null,
      "id": "0bd0bc75-77c6-436d-9ec6-905aa8987f62",
      "metadata": {
        "id": "0bd0bc75-77c6-436d-9ec6-905aa8987f62"
      },
      "outputs": [],
      "source": [
        "\n",
        "thislist = [\"apple\", \"banana\", \"cherry\"]\n",
        "if \"mango\" in thislist:\n",
        "  print(\"Yes, 'apple' is in the fruits list\")"
      ]
    },
    {
      "cell_type": "markdown",
      "id": "369b3930-e657-4faf-ab90-d2656c6b51e3",
      "metadata": {
        "id": "369b3930-e657-4faf-ab90-d2656c6b51e3"
      },
      "source": [
        "# Python - Change List Items"
      ]
    },
    {
      "cell_type": "code",
      "execution_count": null,
      "id": "b105cab7-b881-4968-b674-9a18ff8a0dd5",
      "metadata": {
        "id": "b105cab7-b881-4968-b674-9a18ff8a0dd5",
        "outputId": "713f8aff-dda6-4ba0-839c-0acc68571e12"
      },
      "outputs": [
        {
          "name": "stdout",
          "output_type": "stream",
          "text": [
            "['apple', 'blackcurrant', 'cherry']\n"
          ]
        }
      ],
      "source": [
        "# Change the second item:\n",
        "\n",
        "thislist = [\"apple\", \"banana\", \"cherry\"]\n",
        "thislist[1] = \"blackcurrant\"\n",
        "print(thislist)"
      ]
    },
    {
      "cell_type": "markdown",
      "id": "0d85d665-f5f1-4942-9aba-18b1150f215b",
      "metadata": {
        "id": "0d85d665-f5f1-4942-9aba-18b1150f215b"
      },
      "source": [
        "# Change a Range of Item Values"
      ]
    },
    {
      "cell_type": "code",
      "execution_count": null,
      "id": "5b48aecd-245e-4ef6-b328-4d9354e17693",
      "metadata": {
        "id": "5b48aecd-245e-4ef6-b328-4d9354e17693",
        "outputId": "f05e1a3d-9bca-4c60-d53c-220f31fb6972"
      },
      "outputs": [
        {
          "name": "stdout",
          "output_type": "stream",
          "text": [
            "['apple', 'blackcurrant', 'watermelon', 'orange', 'kiwi', 'mango']\n"
          ]
        }
      ],
      "source": [
        "# Change the values \"banana\" and \"cherry\" with the values \"blackcurrant\" and \"watermelon\":\n",
        "\n",
        "thislist = [\"apple\", \"banana\", \"cherry\", \"orange\", \"kiwi\", \"mango\"]\n",
        "thislist[1:3] = [\"blackcurrant\", \"watermelon\"]\n",
        "print(thislist)"
      ]
    },
    {
      "cell_type": "code",
      "execution_count": null,
      "id": "a0584339-bd2f-455d-9381-1f48fe5257c6",
      "metadata": {
        "id": "a0584339-bd2f-455d-9381-1f48fe5257c6",
        "outputId": "7758b52c-c623-4c0a-ce68-1a6548272427"
      },
      "outputs": [
        {
          "name": "stdout",
          "output_type": "stream",
          "text": [
            "['apple', 'blackcurrant', 'watermelon', 'cherry']\n"
          ]
        }
      ],
      "source": [
        "# Change the second value by replacing it with two new values:\n",
        "\n",
        "thislist = [\"apple\", \"banana\", \"cherry\"]\n",
        "thislist[1:2] = [\"blackcurrant\", \"watermelon\"]\n",
        "print(thislist)"
      ]
    },
    {
      "cell_type": "code",
      "execution_count": null,
      "id": "d69e1d35-c76b-4a8d-96a8-f5055b364359",
      "metadata": {
        "id": "d69e1d35-c76b-4a8d-96a8-f5055b364359",
        "outputId": "a924b8d4-c2b2-432e-bd14-09c1b8e7ee37"
      },
      "outputs": [
        {
          "name": "stdout",
          "output_type": "stream",
          "text": [
            "['apple', 'watermelon']\n"
          ]
        }
      ],
      "source": [
        "# Change the second and third value by replacing it with one value:\n",
        "\n",
        "thislist = [\"apple\", \"banana\", \"cherry\"]\n",
        "thislist[1:3] = [\"watermelon\"]\n",
        "print(thislist)\n"
      ]
    },
    {
      "cell_type": "markdown",
      "id": "820cafac-5d4c-48fe-a724-9fa79638d0dc",
      "metadata": {
        "id": "820cafac-5d4c-48fe-a724-9fa79638d0dc"
      },
      "source": [
        "# Python - Add List Items\n",
        "# Append Items\n",
        "\n"
      ]
    },
    {
      "cell_type": "code",
      "execution_count": null,
      "id": "dd2b4693-55b7-4717-ad5b-e3048b8bab5a",
      "metadata": {
        "id": "dd2b4693-55b7-4717-ad5b-e3048b8bab5a",
        "outputId": "a1eda399-2d8e-4b5f-c5b3-4062bfeadbf3"
      },
      "outputs": [
        {
          "name": "stdout",
          "output_type": "stream",
          "text": [
            "['apple', 'banana', 'cherry', 'orange']\n"
          ]
        }
      ],
      "source": [
        "# Using the append() method to append an item:\n",
        "thislist = [\"apple\", \"banana\", \"cherry\"]\n",
        "thislist.append(\"orange\")\n",
        "print(thislist)"
      ]
    },
    {
      "cell_type": "markdown",
      "id": "9e96be6d-22c9-424a-81ab-50e174d871d3",
      "metadata": {
        "id": "9e96be6d-22c9-424a-81ab-50e174d871d3"
      },
      "source": [
        "# Insert Items"
      ]
    },
    {
      "cell_type": "code",
      "execution_count": null,
      "id": "5cd65f3e-03b3-47e4-92cf-3cf17757494c",
      "metadata": {
        "id": "5cd65f3e-03b3-47e4-92cf-3cf17757494c",
        "outputId": "c318a6de-67cb-41e3-d30c-42e28b279e34"
      },
      "outputs": [
        {
          "name": "stdout",
          "output_type": "stream",
          "text": [
            "['apple', 'orange', 'banana', 'cherry']\n"
          ]
        }
      ],
      "source": [
        "# Insert an item as the second position:\n",
        "\n",
        "thislist = [\"apple\", \"banana\", \"cherry\"]\n",
        "thislist.insert(1, \"orange\")\n",
        "print(thislist)"
      ]
    },
    {
      "cell_type": "markdown",
      "id": "2cad8a40-bd1f-4a22-afe1-7624e13a45a3",
      "metadata": {
        "id": "2cad8a40-bd1f-4a22-afe1-7624e13a45a3"
      },
      "source": [
        "# Extend List"
      ]
    },
    {
      "cell_type": "code",
      "execution_count": null,
      "id": "0ca71af7-5ade-40d0-b0e2-6cc38b9e0ded",
      "metadata": {
        "id": "0ca71af7-5ade-40d0-b0e2-6cc38b9e0ded",
        "outputId": "639b4c17-4c3d-4d51-b5cc-e012dc0625ab"
      },
      "outputs": [
        {
          "name": "stdout",
          "output_type": "stream",
          "text": [
            "['apple', 'banana', 'cherry', 'mango', 'pineapple', 'papaya']\n"
          ]
        }
      ],
      "source": [
        "# Add the elements of tropical to thislist:\n",
        "\n",
        "thislist = [\"apple\", \"banana\", \"cherry\"]\n",
        "tropical = [\"mango\", \"pineapple\", \"papaya\"]\n",
        "thislist.extend(tropical)\n",
        "print(thislist)"
      ]
    },
    {
      "cell_type": "markdown",
      "id": "1aaf3598-1b43-4bc0-8b26-d7c7d61829b8",
      "metadata": {
        "id": "1aaf3598-1b43-4bc0-8b26-d7c7d61829b8"
      },
      "source": [
        "# Add Any Iterable"
      ]
    },
    {
      "cell_type": "code",
      "execution_count": null,
      "id": "5e5e8b3f-42fa-44f7-a7f2-7cb3a5b64705",
      "metadata": {
        "id": "5e5e8b3f-42fa-44f7-a7f2-7cb3a5b64705",
        "outputId": "73282425-6875-4b23-e92a-0f304393982c"
      },
      "outputs": [
        {
          "name": "stdout",
          "output_type": "stream",
          "text": [
            "['apple', 'banana', 'cherry', 'kiwi', 'orange']\n"
          ]
        }
      ],
      "source": [
        "# Add elements of a tuple to a list:\n",
        "\n",
        "thislist = [\"apple\", \"banana\", \"cherry\"]\n",
        "thistuple = (\"kiwi\", \"orange\")\n",
        "thislist.extend(thistuple)\n",
        "print(thislist)"
      ]
    },
    {
      "cell_type": "markdown",
      "id": "49a55691-acd4-4059-b149-cf8af0f6d7b8",
      "metadata": {
        "id": "49a55691-acd4-4059-b149-cf8af0f6d7b8"
      },
      "source": [
        "# Python - Remove List Items\n",
        "# Remove Specified Item"
      ]
    },
    {
      "cell_type": "code",
      "execution_count": null,
      "id": "3ecbc5b5-59aa-494a-8ff8-0da027ab0c48",
      "metadata": {
        "id": "3ecbc5b5-59aa-494a-8ff8-0da027ab0c48",
        "outputId": "757db771-2380-4f9c-d1e1-9334f26d95f9"
      },
      "outputs": [
        {
          "name": "stdout",
          "output_type": "stream",
          "text": [
            "['apple', 'cherry']\n"
          ]
        }
      ],
      "source": [
        "# Remove \"banana\":\n",
        "\n",
        "thislist = [\"apple\", \"banana\", \"cherry\"]\n",
        "thislist.remove(\"banana\")\n",
        "print(thislist)"
      ]
    },
    {
      "cell_type": "code",
      "execution_count": null,
      "id": "6b80f448-2909-4604-b1e9-01ae5c16e263",
      "metadata": {
        "id": "6b80f448-2909-4604-b1e9-01ae5c16e263",
        "outputId": "19b456c0-8052-4539-c983-d2c742932808"
      },
      "outputs": [
        {
          "name": "stdout",
          "output_type": "stream",
          "text": [
            "['apple', 'cherry', 'banana', 'kiwi']\n"
          ]
        }
      ],
      "source": [
        "# If there are more than one item with the specified value, the remove() method removes the first occurrence:\n",
        "# Remove the first occurrence of \"banana\":\n",
        "\n",
        "thislist = [\"apple\", \"banana\", \"cherry\", \"banana\", \"kiwi\"]\n",
        "thislist.remove(\"banana\")\n",
        "print(thislist)"
      ]
    },
    {
      "cell_type": "markdown",
      "id": "f551c74e-0588-4d88-ae3c-97fb7dc85de3",
      "metadata": {
        "id": "f551c74e-0588-4d88-ae3c-97fb7dc85de3"
      },
      "source": [
        "# Remove Specified Index"
      ]
    },
    {
      "cell_type": "code",
      "execution_count": null,
      "id": "98f63f96-419f-4e7e-9d33-b2d3433c5891",
      "metadata": {
        "id": "98f63f96-419f-4e7e-9d33-b2d3433c5891",
        "outputId": "0f3e4af1-9c62-495c-c49b-33bbfcd0dc12"
      },
      "outputs": [
        {
          "name": "stdout",
          "output_type": "stream",
          "text": [
            "['apple', 'cherry']\n"
          ]
        }
      ],
      "source": [
        "# Remove the second item:\n",
        "thislist = [\"apple\", \"banana\", \"cherry\"]\n",
        "thislist.pop(1)\n",
        "print(thislist)"
      ]
    },
    {
      "cell_type": "code",
      "execution_count": null,
      "id": "24b11020-2757-4b7f-ab8c-7284f8841579",
      "metadata": {
        "id": "24b11020-2757-4b7f-ab8c-7284f8841579",
        "outputId": "9ac14f40-599e-4729-f6c3-7d6ccfd3a0ac"
      },
      "outputs": [
        {
          "name": "stdout",
          "output_type": "stream",
          "text": [
            "['apple', 'banana']\n"
          ]
        }
      ],
      "source": [
        "# If you do not specify the index, the pop() method removes the last item.\n",
        "thislist = [\"apple\", \"banana\", \"cherry\"]\n",
        "thislist.pop()\n",
        "print(thislist)"
      ]
    },
    {
      "cell_type": "code",
      "execution_count": null,
      "id": "53bf37e6-f245-4c23-81fa-808e7917e6ce",
      "metadata": {
        "id": "53bf37e6-f245-4c23-81fa-808e7917e6ce",
        "outputId": "300752d5-04d7-4904-d4c2-3ddbfde7de48"
      },
      "outputs": [
        {
          "name": "stdout",
          "output_type": "stream",
          "text": [
            "['banana', 'cherry']\n"
          ]
        }
      ],
      "source": [
        "# The del keyword also removes the specified index:\n",
        "thislist = [\"apple\", \"banana\", \"cherry\"]\n",
        "del thislist[0]\n",
        "print(thislist)"
      ]
    },
    {
      "cell_type": "code",
      "execution_count": null,
      "id": "3b1584cf-4812-4bf6-a984-d75ce9ec082f",
      "metadata": {
        "id": "3b1584cf-4812-4bf6-a984-d75ce9ec082f"
      },
      "outputs": [],
      "source": [
        "# The del keyword can also delete the list completely.\n",
        "thislist = [\"apple\", \"banana\", \"cherry\"]\n",
        "del thislist"
      ]
    },
    {
      "cell_type": "markdown",
      "id": "e6a4af88-baa7-40e7-a35e-904860278b6a",
      "metadata": {
        "id": "e6a4af88-baa7-40e7-a35e-904860278b6a"
      },
      "source": [
        "# Clear the List"
      ]
    },
    {
      "cell_type": "code",
      "execution_count": null,
      "id": "b161756b-5ced-4800-8b08-600a0ea46060",
      "metadata": {
        "id": "b161756b-5ced-4800-8b08-600a0ea46060",
        "outputId": "d24f040a-37f8-4c7f-b62e-42649b99a138"
      },
      "outputs": [
        {
          "name": "stdout",
          "output_type": "stream",
          "text": [
            "[]\n"
          ]
        }
      ],
      "source": [
        "# Clear the list content:\n",
        "\n",
        "thislist = [\"apple\", \"banana\", \"cherry\"]\n",
        "thislist.clear()\n",
        "print(thislist)"
      ]
    },
    {
      "cell_type": "markdown",
      "id": "85d8fbc2-b7fd-429a-a2a9-5c7203163cb8",
      "metadata": {
        "id": "85d8fbc2-b7fd-429a-a2a9-5c7203163cb8"
      },
      "source": [
        "# Python - Loop Lists\n",
        "# Loop Through a List"
      ]
    },
    {
      "cell_type": "code",
      "execution_count": null,
      "id": "4bb1a844-559f-4234-b0ab-4c033b6e6f7a",
      "metadata": {
        "id": "4bb1a844-559f-4234-b0ab-4c033b6e6f7a",
        "outputId": "01252402-0d7c-4dc5-e962-e4a6198b2bfd"
      },
      "outputs": [
        {
          "name": "stdout",
          "output_type": "stream",
          "text": [
            "apple\n",
            "banana\n",
            "cherry\n"
          ]
        }
      ],
      "source": [
        "# Print all items in the list, one by one:\n",
        "\n",
        "thislist = [\"apple\", \"banana\", \"cherry\"]\n",
        "for x in thislist:\n",
        "  print(x)"
      ]
    },
    {
      "cell_type": "markdown",
      "id": "64bc0e44-2ec7-4f39-8360-2b73b65c8b15",
      "metadata": {
        "id": "64bc0e44-2ec7-4f39-8360-2b73b65c8b15"
      },
      "source": [
        "# Loop Through the Index Numbers\n"
      ]
    },
    {
      "cell_type": "code",
      "execution_count": null,
      "id": "9aebbb66-f993-4907-970e-d807aedbe88f",
      "metadata": {
        "id": "9aebbb66-f993-4907-970e-d807aedbe88f",
        "outputId": "fde70883-ca8e-427a-bdeb-df3cc99ed836"
      },
      "outputs": [
        {
          "name": "stdout",
          "output_type": "stream",
          "text": [
            "apple\n",
            "banana\n",
            "cherry\n"
          ]
        }
      ],
      "source": [
        "# Print all items by referring to their index number:\n",
        "# The iterable created in the example above is [0, 1, 2].\n",
        "\n",
        "thislist = [\"apple\", \"banana\", \"cherry\"]\n",
        "for i in range(len(thislist)):\n",
        "  print(thislist[i])"
      ]
    },
    {
      "cell_type": "markdown",
      "id": "a0c82f99-4e4e-4bdf-84c2-816e95d8efe8",
      "metadata": {
        "id": "a0c82f99-4e4e-4bdf-84c2-816e95d8efe8"
      },
      "source": [
        "# Using a While Loop"
      ]
    },
    {
      "cell_type": "code",
      "execution_count": null,
      "id": "7b97185b-94b1-4a66-adc4-31b261660798",
      "metadata": {
        "id": "7b97185b-94b1-4a66-adc4-31b261660798",
        "outputId": "3c7aebec-a170-4fc4-82e4-bd90c653777f"
      },
      "outputs": [
        {
          "name": "stdout",
          "output_type": "stream",
          "text": [
            "apple\n",
            "banana\n",
            "cherry\n"
          ]
        }
      ],
      "source": [
        "# Print all items, using a while loop to go through all the index numbers\n",
        "\n",
        "thislist = [\"apple\", \"banana\", \"cherry\"]\n",
        "i = 0\n",
        "while i < len(thislist):\n",
        "  print(thislist[i])\n",
        "  i = i + 1"
      ]
    },
    {
      "cell_type": "markdown",
      "id": "4cbf10a8-45b7-4934-86a0-b137c271d4df",
      "metadata": {
        "id": "4cbf10a8-45b7-4934-86a0-b137c271d4df"
      },
      "source": [
        "# Python - List Comprehension\n",
        "# List Comprehension"
      ]
    },
    {
      "cell_type": "code",
      "execution_count": null,
      "id": "aadf08de-06ed-4ee7-b78b-41da7087377a",
      "metadata": {
        "id": "aadf08de-06ed-4ee7-b78b-41da7087377a",
        "outputId": "9580ab92-e134-4998-84a5-daacebb1c569"
      },
      "outputs": [
        {
          "name": "stdout",
          "output_type": "stream",
          "text": [
            "['apple', 'banana', 'mango']\n"
          ]
        }
      ],
      "source": [
        "fruits = [\"apple\", \"banana\", \"cherry\", \"kiwi\", \"mango\"]\n",
        "newlist = []\n",
        "\n",
        "for x in fruits:\n",
        "  if \"a\" in x:\n",
        "    newlist.append(x)\n",
        "\n",
        "print(newlist)"
      ]
    },
    {
      "cell_type": "code",
      "execution_count": null,
      "id": "5598eeef-0650-4fab-afe9-983064b14d0d",
      "metadata": {
        "id": "5598eeef-0650-4fab-afe9-983064b14d0d",
        "outputId": "3dc38e11-58ce-4c05-9c11-bd692aa34447"
      },
      "outputs": [
        {
          "name": "stdout",
          "output_type": "stream",
          "text": [
            "['apple', 'banana', 'mango']\n"
          ]
        }
      ],
      "source": [
        "# With list comprehension you can do all that with only one line of code:\n",
        "fruits = [\"apple\", \"banana\", \"cherry\", \"kiwi\", \"mango\"]\n",
        "\n",
        "newlist = [x for x in fruits if \"a\" in x]\n",
        "\n",
        "print(newlist)"
      ]
    },
    {
      "cell_type": "code",
      "execution_count": null,
      "id": "ee7a116d-acff-4e29-bfef-6bad507c3b57",
      "metadata": {
        "id": "ee7a116d-acff-4e29-bfef-6bad507c3b57"
      },
      "outputs": [],
      "source": [
        "# The Syntax\n",
        "# newlist = [expression for item in iterable if condition == True]\n",
        "# The return value is a new list, leaving the old list unchanged.\n",
        "\n"
      ]
    },
    {
      "cell_type": "markdown",
      "id": "63995337-5054-4c6f-afc8-1089b57f698a",
      "metadata": {
        "id": "63995337-5054-4c6f-afc8-1089b57f698a"
      },
      "source": [
        "# Condition"
      ]
    },
    {
      "cell_type": "code",
      "execution_count": null,
      "id": "f382284d-a667-4209-bd52-2dda370fb1c2",
      "metadata": {
        "id": "f382284d-a667-4209-bd52-2dda370fb1c2"
      },
      "outputs": [],
      "source": [
        "# Only accept items that are not \"apple\":\n",
        "\n",
        "newlist = [x for x in fruits if x != \"apple\"]"
      ]
    },
    {
      "cell_type": "code",
      "execution_count": null,
      "id": "c77425af-3fe5-425c-baf4-a189e44cb504",
      "metadata": {
        "id": "c77425af-3fe5-425c-baf4-a189e44cb504"
      },
      "outputs": [],
      "source": [
        "# With no if statement:\n",
        "\n",
        "newlist = [x for x in fruits]"
      ]
    },
    {
      "cell_type": "markdown",
      "id": "f41d0f28-0050-45b1-981a-e906dd191a9a",
      "metadata": {
        "id": "f41d0f28-0050-45b1-981a-e906dd191a9a"
      },
      "source": [
        "# Iterable"
      ]
    },
    {
      "cell_type": "code",
      "execution_count": null,
      "id": "0d1bc146-ac8e-4868-b63a-35947ba3e89f",
      "metadata": {
        "id": "0d1bc146-ac8e-4868-b63a-35947ba3e89f"
      },
      "outputs": [],
      "source": [
        "# use the range() function to create an iterable:\n",
        "\n",
        "newlist = [x for x in range(10)]\n",
        "# Same example, but with a condition:\n",
        "Accept only numbers lower than 5:\n",
        "newlist = [x for x in range(10) if x < 5]"
      ]
    },
    {
      "cell_type": "code",
      "execution_count": null,
      "id": "2f8dca0e-f657-4c59-9a91-ed716b4b1aa4",
      "metadata": {
        "id": "2f8dca0e-f657-4c59-9a91-ed716b4b1aa4"
      },
      "outputs": [],
      "source": [
        "# Expression\n",
        "#The expression is the current item in the iteration, but it is also the outcome, which you can manipulate before it ends up like a list item in the new list:\n",
        "\n",
        "#Set the values in the new list to upper case:\n",
        "\n",
        "newlist = [x.upper() for x in fruits]\n"
      ]
    },
    {
      "cell_type": "markdown",
      "id": "ccbebcdf-d6bd-4a6e-8d23-b795588c9d5a",
      "metadata": {
        "id": "ccbebcdf-d6bd-4a6e-8d23-b795588c9d5a"
      },
      "source": [
        "# Python - Sort Lists"
      ]
    },
    {
      "cell_type": "code",
      "execution_count": null,
      "id": "d4882afe-957f-417c-9643-044a26287277",
      "metadata": {
        "id": "d4882afe-957f-417c-9643-044a26287277",
        "outputId": "7636a7e0-4003-436e-af06-f244d5f2323f"
      },
      "outputs": [
        {
          "name": "stdout",
          "output_type": "stream",
          "text": [
            "['banana', 'kiwi', 'mango', 'orange', 'pineapple']\n"
          ]
        }
      ],
      "source": [
        "thislist = [\"orange\", \"mango\", \"kiwi\", \"pineapple\", \"banana\"]\n",
        "thislist.sort()\n",
        "print(thislist)\n",
        "\n"
      ]
    },
    {
      "cell_type": "code",
      "execution_count": null,
      "id": "392a5697-9ea2-45c7-a90f-2e62cccab4b1",
      "metadata": {
        "id": "392a5697-9ea2-45c7-a90f-2e62cccab4b1",
        "outputId": "7d914969-5a04-49e7-eaa5-af7996f5cbc0"
      },
      "outputs": [
        {
          "name": "stdout",
          "output_type": "stream",
          "text": [
            "[23, 50, 65, 82, 100]\n"
          ]
        }
      ],
      "source": [
        "#Sort the list numerically:\n",
        "\n",
        "thislist = [100, 50, 65, 82, 23]\n",
        "thislist.sort()\n",
        "print(thislist)"
      ]
    },
    {
      "cell_type": "code",
      "execution_count": null,
      "id": "bb67a744-b6e8-49fd-b664-0a3807194d29",
      "metadata": {
        "id": "bb67a744-b6e8-49fd-b664-0a3807194d29",
        "outputId": "99824d53-d246-49ab-d6e9-5f13d29d1ec7"
      },
      "outputs": [
        {
          "name": "stdout",
          "output_type": "stream",
          "text": [
            "['pineapple', 'orange', 'mango', 'kiwi', 'banana']\n"
          ]
        }
      ],
      "source": [
        "# Sort the list descending:\n",
        "\n",
        "thislist = [\"orange\", \"mango\", \"kiwi\", \"pineapple\", \"banana\"]\n",
        "thislist.sort(reverse = True)\n",
        "print(thislist)"
      ]
    },
    {
      "cell_type": "code",
      "execution_count": null,
      "id": "ec43b0ff-34bf-4a31-9366-ebf7dc00c778",
      "metadata": {
        "id": "ec43b0ff-34bf-4a31-9366-ebf7dc00c778",
        "outputId": "095d2be3-1998-4525-fd8c-e1608b3f5a9d"
      },
      "outputs": [
        {
          "name": "stdout",
          "output_type": "stream",
          "text": [
            "[100, 82, 65, 50, 23]\n"
          ]
        }
      ],
      "source": [
        "# Sort the list descending:\n",
        "\n",
        "thislist = [100, 50, 65, 82, 23]\n",
        "thislist.sort(reverse = True)\n",
        "print(thislist)"
      ]
    },
    {
      "cell_type": "code",
      "execution_count": null,
      "id": "67402e92-e436-4127-884e-3c9e4398e3f5",
      "metadata": {
        "id": "67402e92-e436-4127-884e-3c9e4398e3f5",
        "outputId": "831cc0f6-503c-4a65-9170-81ff74871b3e"
      },
      "outputs": [
        {
          "name": "stdout",
          "output_type": "stream",
          "text": [
            "[50, 65, 23, 82, 100]\n"
          ]
        }
      ],
      "source": [
        "# Sort the list based on how close the number is to 50:\n",
        "\n",
        "def myfunc(n):\n",
        "  return abs(n - 50)\n",
        "\n",
        "thislist = [100, 50, 65, 82, 23]\n",
        "thislist.sort(key = myfunc)\n",
        "print(thislist)"
      ]
    },
    {
      "cell_type": "markdown",
      "id": "86c4afe3-240c-42e3-adf1-8694819b333c",
      "metadata": {
        "id": "86c4afe3-240c-42e3-adf1-8694819b333c"
      },
      "source": [
        "# Case Insensitive Sort\n",
        "\n"
      ]
    },
    {
      "cell_type": "code",
      "execution_count": null,
      "id": "da5f85a2-19f4-47c4-b16f-ccfe18648482",
      "metadata": {
        "id": "da5f85a2-19f4-47c4-b16f-ccfe18648482",
        "outputId": "cb2932ba-c7f7-4b85-92e7-e66ad24b7ce5"
      },
      "outputs": [
        {
          "name": "stdout",
          "output_type": "stream",
          "text": [
            "['Kiwi', 'Orange', 'banana', 'cherry']\n"
          ]
        }
      ],
      "source": [
        "thislist = [\"banana\", \"Orange\", \"Kiwi\", \"cherry\"]\n",
        "thislist.sort()\n",
        "print(thislist)"
      ]
    },
    {
      "cell_type": "code",
      "execution_count": null,
      "id": "0bb0a1e3-fa07-455a-bc34-155646c69b69",
      "metadata": {
        "id": "0bb0a1e3-fa07-455a-bc34-155646c69b69",
        "outputId": "6df3f0f7-b90a-4fc7-c41e-f1dada65c872"
      },
      "outputs": [
        {
          "name": "stdout",
          "output_type": "stream",
          "text": [
            "['banana', 'cherry', 'Kiwi', 'Orange']\n"
          ]
        }
      ],
      "source": [
        "# use str.lower as a key function:\n",
        "\n",
        "thislist = [\"banana\", \"Orange\", \"Kiwi\", \"cherry\"]\n",
        "thislist.sort(key = str.lower)\n",
        "print(thislist)"
      ]
    },
    {
      "cell_type": "code",
      "execution_count": null,
      "id": "3ae24100-956c-4ef0-bf14-af1e5e8b3310",
      "metadata": {
        "id": "3ae24100-956c-4ef0-bf14-af1e5e8b3310",
        "outputId": "b1756c39-e89a-4af4-9b49-578fee1acd67"
      },
      "outputs": [
        {
          "name": "stdout",
          "output_type": "stream",
          "text": [
            "['cherry', 'Kiwi', 'Orange', 'banana']\n"
          ]
        }
      ],
      "source": [
        "# Reverse Order\n",
        "# if you want to reverse the order of a list, regardless of the alphabet?\n",
        "# The reverse() method reverses the current sorting order of the elements.\n",
        "\n",
        "thislist = [\"banana\", \"Orange\", \"Kiwi\", \"cherry\"]\n",
        "thislist.reverse()\n",
        "print(thislist)"
      ]
    },
    {
      "cell_type": "markdown",
      "id": "4cca976b-c580-4051-9ea9-050e84dee915",
      "metadata": {
        "id": "4cca976b-c580-4051-9ea9-050e84dee915"
      },
      "source": [
        "# Python - Copy Lists"
      ]
    },
    {
      "cell_type": "code",
      "execution_count": null,
      "id": "750eea98-347f-473c-baa9-bac5c1377d03",
      "metadata": {
        "id": "750eea98-347f-473c-baa9-bac5c1377d03",
        "outputId": "f2e04342-5022-4464-ad80-2dc0eaf3d084"
      },
      "outputs": [
        {
          "name": "stdout",
          "output_type": "stream",
          "text": [
            "['apple', 'banana', 'cherry']\n"
          ]
        }
      ],
      "source": [
        "# Make a copy of a list with the copy() method:\n",
        "\n",
        "thislist = [\"apple\", \"banana\", \"cherry\"]\n",
        "mylist = thislist.copy()\n",
        "print(mylist)"
      ]
    },
    {
      "cell_type": "code",
      "execution_count": null,
      "id": "1bee9a52-d48e-40e7-a6da-cf7e2aae0d1a",
      "metadata": {
        "id": "1bee9a52-d48e-40e7-a6da-cf7e2aae0d1a",
        "outputId": "c7070922-6597-42f0-fa41-eb6cf1c36ea6"
      },
      "outputs": [
        {
          "name": "stdout",
          "output_type": "stream",
          "text": [
            "['apple', 'banana', 'cherry']\n"
          ]
        }
      ],
      "source": [
        "# Use the list() method\n",
        "#Another way to make a copy is to use the built-in method list().\n",
        "\n",
        "# Make a copy of a list with the list() method:\n",
        "\n",
        "thislist = [\"apple\", \"banana\", \"cherry\"]\n",
        "mylist = list(thislist)\n",
        "print(mylist)"
      ]
    },
    {
      "cell_type": "code",
      "execution_count": null,
      "id": "11b21bc6-eca4-4e3f-bec0-06e1b78cc7bc",
      "metadata": {
        "id": "11b21bc6-eca4-4e3f-bec0-06e1b78cc7bc",
        "outputId": "f2e1ad86-718f-40ba-a03d-20c90f6e4e8a"
      },
      "outputs": [
        {
          "name": "stdout",
          "output_type": "stream",
          "text": [
            "['apple', 'banana', 'cherry']\n"
          ]
        }
      ],
      "source": [
        "# Use the slice Operator\n",
        "# You can also make a copy of a list by using the : (slice) operator.\n",
        "\n",
        "thislist = [\"apple\", \"banana\", \"cherry\"]\n",
        "mylist = thislist[:]\n",
        "print(mylist)"
      ]
    },
    {
      "cell_type": "markdown",
      "id": "503d3f6a-c7cc-4a2f-95aa-081f88cdc883",
      "metadata": {
        "id": "503d3f6a-c7cc-4a2f-95aa-081f88cdc883"
      },
      "source": [
        "# Python - Join Lists"
      ]
    },
    {
      "cell_type": "code",
      "execution_count": null,
      "id": "0499e9b7-c4d7-4b28-9d02-7b1b19be1c1b",
      "metadata": {
        "id": "0499e9b7-c4d7-4b28-9d02-7b1b19be1c1b",
        "outputId": "565f81da-2f88-4fa0-d9c0-7e70baff7042"
      },
      "outputs": [
        {
          "name": "stdout",
          "output_type": "stream",
          "text": [
            "['a', 'b', 'c', 1, 2, 3]\n"
          ]
        }
      ],
      "source": [
        "list1 = [\"a\", \"b\", \"c\"]\n",
        "list2 = [1, 2, 3]\n",
        "\n",
        "list3 = list1 + list2\n",
        "print(list3)"
      ]
    },
    {
      "cell_type": "code",
      "execution_count": null,
      "id": "eb58bb25-a1fd-44f5-82a8-4568dc58dec0",
      "metadata": {
        "id": "eb58bb25-a1fd-44f5-82a8-4568dc58dec0",
        "outputId": "b520f703-6c5b-4ef7-b2a1-02e36ad7c814"
      },
      "outputs": [
        {
          "name": "stdout",
          "output_type": "stream",
          "text": [
            "['a', 'b', 'c', 1, 2, 3]\n"
          ]
        }
      ],
      "source": [
        "# Append list2 into list1:\n",
        "\n",
        "list1 = [\"a\", \"b\" , \"c\"]\n",
        "list2 = [1, 2, 3]\n",
        "\n",
        "for x in list2:\n",
        "  list1.append(x)\n",
        "\n",
        "print(list1)"
      ]
    },
    {
      "cell_type": "code",
      "execution_count": null,
      "id": "e4d59c7b-e629-4e0f-b721-7ae62997cf6b",
      "metadata": {
        "id": "e4d59c7b-e629-4e0f-b721-7ae62997cf6b",
        "outputId": "c379f762-7a92-4232-cbeb-f242117de374"
      },
      "outputs": [
        {
          "name": "stdout",
          "output_type": "stream",
          "text": [
            "['a', 'b', 'c', 1, 2, 3]\n"
          ]
        }
      ],
      "source": [
        "#Use the extend() method to add list2 at the end of list1:\n",
        "\n",
        "list1 = [\"a\", \"b\" , \"c\"]\n",
        "list2 = [1, 2, 3]\n",
        "\n",
        "list1.extend(list2)\n",
        "print(list1)"
      ]
    }
  ],
  "metadata": {
    "colab": {
      "provenance": []
    },
    "kernelspec": {
      "display_name": "Python 3 (ipykernel)",
      "language": "python",
      "name": "python3"
    },
    "language_info": {
      "codemirror_mode": {
        "name": "ipython",
        "version": 3
      },
      "file_extension": ".py",
      "mimetype": "text/x-python",
      "name": "python",
      "nbconvert_exporter": "python",
      "pygments_lexer": "ipython3",
      "version": "3.12.7"
    }
  },
  "nbformat": 4,
  "nbformat_minor": 5
}
