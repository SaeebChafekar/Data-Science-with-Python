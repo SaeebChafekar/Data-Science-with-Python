{
 "cells": [
  {
   "cell_type": "markdown",
   "id": "5b728b05-1a5d-4080-93ae-c3babe29bcb3",
   "metadata": {},
   "source": [
    "# Dictionary"
   ]
  },
  {
   "cell_type": "markdown",
   "id": "82a2340f-bc80-4ee6-ba1d-89d07219d671",
   "metadata": {},
   "source": [
    "- Dictionaries are used to store data values in key:value pairs.\n",
    "- A dictionary is a collection which is ordered*,changeable and do not allow duplicates.\n",
    "- Dictionaries are written with curly brackets, and have keys and values."
   ]
  },
  {
   "cell_type": "code",
   "execution_count": 4,
   "id": "c7017ccb-ff9d-453c-8b8c-d251b7a2f6b9",
   "metadata": {},
   "outputs": [
    {
     "name": "stdout",
     "output_type": "stream",
     "text": [
      "{'brand': 'ford', 'model1': 'Mustang', 'year': 1964}\n"
     ]
    }
   ],
   "source": [
    "thisdict = {\"brand\":\"ford\",\"model1\":\"Mustang\",\"year\":1964}\n",
    "print(thisdict)"
   ]
  },
  {
   "cell_type": "markdown",
   "id": "00661878-88bd-40a6-ac3e-2ef42505a37b",
   "metadata": {},
   "source": [
    "# Dictionary items"
   ]
  },
  {
   "cell_type": "markdown",
   "id": "528913db-f8c3-4eb9-bd61-9cfdbb545430",
   "metadata": {},
   "source": [
    "- Dictionary items are ordered, changeable and do not allow duplicates.\n",
    "- Dictionary items are presented in key:value pairs, and can be reffered to using the key name."
   ]
  },
  {
   "cell_type": "code",
   "execution_count": 3,
   "id": "51d1b4cb-1911-4eda-ba91-beae236cc5ee",
   "metadata": {},
   "outputs": [
    {
     "name": "stdout",
     "output_type": "stream",
     "text": [
      "Ford\n"
     ]
    }
   ],
   "source": [
    "# Print the brand value of the dictionary\n",
    "thisdict = {\"brand\":\"Ford\",\"model1\":\"Mustang\",\"year\":\"1964\"}\n",
    "print(thisdict[\"brand\"])"
   ]
  },
  {
   "cell_type": "markdown",
   "id": "6421bcf1-c6c5-4080-bfe1-2ac40a4810c0",
   "metadata": {},
   "source": [
    "# Duplicates are not allowed"
   ]
  },
  {
   "cell_type": "code",
   "execution_count": 8,
   "id": "f77eeaf5-7e23-4521-ab91-87a817ec295b",
   "metadata": {},
   "outputs": [
    {
     "name": "stdout",
     "output_type": "stream",
     "text": [
      "{'brand': 'ford', 'model1': 'Mustang', 'year': 2022}\n",
      "3\n",
      "<class 'dict'>\n"
     ]
    }
   ],
   "source": [
    "thisdict = {\"brand\":\"ford\",\"model1\":\"Mustang\",\"year\":1964,\"year\":2022}\n",
    "print(thisdict)\n",
    "print(len(thisdict)) #Prints length of thisdict\n",
    "print(type(thisdict)) #Prints datatype of thisdict"
   ]
  },
  {
   "cell_type": "markdown",
   "id": "79878594-11aa-4e75-9cc8-654dbec66d46",
   "metadata": {},
   "source": [
    "# The dict() constructor"
   ]
  },
  {
   "cell_type": "code",
   "execution_count": 9,
   "id": "c8a32e63-f158-4544-9fb2-43bfa2ba059d",
   "metadata": {},
   "outputs": [
    {
     "name": "stdout",
     "output_type": "stream",
     "text": [
      "{'name': 'Aryan', 'age': 20, 'Country': 'India'}\n"
     ]
    }
   ],
   "source": [
    "thisdict = dict(name = \"Aryan\", age = 20, Country = \"India\")\n",
    "print(thisdict)"
   ]
  },
  {
   "cell_type": "markdown",
   "id": "e748affa-1f3a-43bd-976d-07e4664bdc0b",
   "metadata": {},
   "source": [
    "# Accessing Items"
   ]
  },
  {
   "cell_type": "markdown",
   "id": "9d0cafd6-5ebb-4b0b-8b14-e87469d432d3",
   "metadata": {},
   "source": [
    "- You can access the items of a dictionary by reffering to its key name, inside square brackets:"
   ]
  },
  {
   "cell_type": "code",
   "execution_count": 11,
   "id": "daf49020-f890-4e89-9c81-fa114062dd4e",
   "metadata": {},
   "outputs": [
    {
     "name": "stdout",
     "output_type": "stream",
     "text": [
      "Mustang\n"
     ]
    }
   ],
   "source": [
    "thisdict = {\"brand\":\"ford\",\"Model\":\"Mustang\",\"year\":1964}\n",
    "x = thisdict[\"Model\"]\n",
    "print(x)"
   ]
  },
  {
   "cell_type": "code",
   "execution_count": 13,
   "id": "ed2449cc-529e-4558-87d0-016a8d263928",
   "metadata": {},
   "outputs": [
    {
     "name": "stdout",
     "output_type": "stream",
     "text": [
      "dict_keys(['brand', 'Model', 'year'])\n"
     ]
    }
   ],
   "source": [
    "thisdict = {\"brand\":\"ford\",\"Model\":\"Mustang\",\"year\":1964}\n",
    "x = thisdict.keys()\n",
    "print(x)"
   ]
  },
  {
   "cell_type": "code",
   "execution_count": 14,
   "id": "bd04f2e0-32dd-4e72-b658-960b11aa6968",
   "metadata": {},
   "outputs": [
    {
     "name": "stdout",
     "output_type": "stream",
     "text": [
      "dict_keys(['brand', 'Model', 'year'])\n",
      "dict_keys(['brand', 'Model', 'year', 'Colour'])\n"
     ]
    }
   ],
   "source": [
    "car = {\"brand\":\"ford\",\"Model\":\"Mustang\",\"year\":1964}\n",
    "x = car.keys()\n",
    "print(x) #Before the change\n",
    "car[\"Colour\"] = \"White\"\n",
    "print(x) #After the change"
   ]
  },
  {
   "cell_type": "markdown",
   "id": "be9c78dc-b8c6-4423-9ed5-c6a82b16115d",
   "metadata": {},
   "source": [
    "# Get values"
   ]
  },
  {
   "cell_type": "markdown",
   "id": "49261ee3-3ce7-4226-841d-3b45a8874122",
   "metadata": {},
   "source": [
    "- The values() method will return a list of all the values in the dictionary"
   ]
  },
  {
   "cell_type": "code",
   "execution_count": 15,
   "id": "4e48a094-351f-4a86-9a08-972e46f4aa70",
   "metadata": {},
   "outputs": [
    {
     "name": "stdout",
     "output_type": "stream",
     "text": [
      "dict_values(['ford', 'Mustang', 2022])\n"
     ]
    }
   ],
   "source": [
    "thisdict = {\"brand\":\"ford\",\"model1\":\"Mustang\",\"year\":1964,\"year\":2022}\n",
    "x = thisdict.values()\n",
    "print(x)"
   ]
  },
  {
   "cell_type": "code",
   "execution_count": 17,
   "id": "5620da4a-65da-43be-8e04-35dc685689a7",
   "metadata": {},
   "outputs": [
    {
     "name": "stdout",
     "output_type": "stream",
     "text": [
      "dict_values(['ford', 'Mustang', 1964])\n",
      "dict_values(['ford', 'Mustang', 2020])\n"
     ]
    }
   ],
   "source": [
    "car = {\"brand\":\"ford\",\"Model\":\"Mustang\",\"year\":1964}\n",
    "x = car.values()\n",
    "print(x) #Before the change\n",
    "car[\"year\"] = 2020\n",
    "print(x) #After the change"
   ]
  },
  {
   "cell_type": "markdown",
   "id": "21d3fe43-4a01-4a25-9aac-b226b3490f18",
   "metadata": {},
   "source": [
    "# Get items"
   ]
  },
  {
   "cell_type": "markdown",
   "id": "039c12ba-d05f-4358-9465-3ec7c587682a",
   "metadata": {},
   "source": [
    "- The items() method will return each item in a dictionary, as tuples in a list"
   ]
  },
  {
   "cell_type": "code",
   "execution_count": 18,
   "id": "ec9cab77-8c5c-496a-b62b-66f793dcb751",
   "metadata": {},
   "outputs": [
    {
     "name": "stdout",
     "output_type": "stream",
     "text": [
      "dict_items([('brand', 'ford'), ('Model', 'Mustang'), ('year', 1964)])\n"
     ]
    }
   ],
   "source": [
    "thisdict = {\"brand\":\"ford\",\"Model\":\"Mustang\",\"year\":1964}\n",
    "x = thisdict.items()\n",
    "print(x)"
   ]
  },
  {
   "cell_type": "code",
   "execution_count": 19,
   "id": "b6af1319-de69-4659-bb6a-e225ef9d8fdd",
   "metadata": {},
   "outputs": [
    {
     "name": "stdout",
     "output_type": "stream",
     "text": [
      "dict_items([('brand', 'ford'), ('Model', 'Mustang'), ('year', 1964)])\n",
      "dict_items([('brand', 'ford'), ('Model', 'Mustang'), ('year', 2020)])\n"
     ]
    }
   ],
   "source": [
    "car = {\"brand\":\"ford\",\"Model\":\"Mustang\",\"year\":1964}\n",
    "x = car.items()\n",
    "print(x) #Before the change\n",
    "car[\"year\"] = 2020\n",
    "print(x) #After the change"
   ]
  },
  {
   "cell_type": "code",
   "execution_count": 21,
   "id": "337fea9e-c106-4a79-a221-e85477dbc49a",
   "metadata": {},
   "outputs": [
    {
     "name": "stdout",
     "output_type": "stream",
     "text": [
      "dict_items([('brand', 'ford'), ('Model', 'Mustang'), ('year', 1964)])\n",
      "dict_items([('brand', 'ford'), ('Model', 'Mustang'), ('year', 1964), ('Colour', 'Red')])\n"
     ]
    }
   ],
   "source": [
    "# Add new item to the original dictionary\n",
    "car = {\"brand\":\"ford\",\"Model\":\"Mustang\",\"year\":1964}\n",
    "x = car.items()\n",
    "print(x) #Before the change\n",
    "car[\"Colour\"] = \"Red\"\n",
    "print(x) #After the change"
   ]
  },
  {
   "cell_type": "markdown",
   "id": "0183e91a-cbe5-4cdc-90c9-3c295e187b26",
   "metadata": {},
   "source": [
    "# Update Dictionary"
   ]
  },
  {
   "cell_type": "markdown",
   "id": "18bda710-d142-4d97-8c6f-2fe4de60d68b",
   "metadata": {},
   "source": [
    "- The update() method will update the dictionary with the items from the given argument"
   ]
  },
  {
   "cell_type": "code",
   "execution_count": 25,
   "id": "d432fcac-18cb-4166-8b66-151ffbdc778c",
   "metadata": {},
   "outputs": [
    {
     "name": "stdout",
     "output_type": "stream",
     "text": [
      "{'brand': 'ford', 'model1': 'Mustang', 'year': 2012}\n"
     ]
    }
   ],
   "source": [
    "thisdict = {\"brand\":\"ford\",\"model\":\"Mustang\",\"year\":1964}\n",
    "thisdict.update({\"year\":2012})\n",
    "print(thisdict)"
   ]
  },
  {
   "cell_type": "markdown",
   "id": "e22e603b-2ba4-4850-9b8d-4d89fa92294b",
   "metadata": {},
   "source": [
    "# Remove dictionary items"
   ]
  },
  {
   "cell_type": "code",
   "execution_count": 26,
   "id": "fe741ed6-f262-473c-a202-dc247e431e91",
   "metadata": {},
   "outputs": [
    {
     "name": "stdout",
     "output_type": "stream",
     "text": [
      "{'brand': 'ford', 'year': 1964}\n"
     ]
    }
   ],
   "source": [
    "thisdict = {\"brand\":\"ford\",\"model\":\"Mustang\",\"year\":1964}\n",
    "thisdict.pop(\"model\")\n",
    "print(thisdict)"
   ]
  },
  {
   "cell_type": "code",
   "execution_count": 27,
   "id": "a8291ad2-9596-4454-8aad-b4db1f52d300",
   "metadata": {},
   "outputs": [
    {
     "name": "stdout",
     "output_type": "stream",
     "text": [
      "{}\n"
     ]
    }
   ],
   "source": [
    "thisdict = {\"brand\":\"ford\",\"model1\":\"Mustang\",\"year\":1964}\n",
    "thisdict.clear()\n",
    "print(thisdict)"
   ]
  },
  {
   "cell_type": "markdown",
   "id": "2b8d2179-9127-4947-b5aa-84efd759a5b8",
   "metadata": {},
   "source": [
    "# Loop through a dictionary"
   ]
  },
  {
   "cell_type": "code",
   "execution_count": 29,
   "id": "9c6c36ba-5d0d-4207-9b78-2f087845a61d",
   "metadata": {},
   "outputs": [
    {
     "name": "stdout",
     "output_type": "stream",
     "text": [
      "brand\n",
      "model1\n",
      "year\n"
     ]
    }
   ],
   "source": [
    "thisdict = {\"brand\":\"ford\",\"model\":\"Mustang\",\"year\":1964}\n",
    "for x in thisdict:\n",
    "    print(x)"
   ]
  },
  {
   "cell_type": "code",
   "execution_count": 31,
   "id": "170c93ca-64cb-4b0a-8011-63a48d18727c",
   "metadata": {},
   "outputs": [
    {
     "name": "stdout",
     "output_type": "stream",
     "text": [
      "Ford\n",
      "Mustang\n",
      "1964\n"
     ]
    }
   ],
   "source": [
    "thisdict = {\"brand\":\"Ford\",\"model\":\"Mustang\",\"year\":1964}\n",
    "for x in thisdict:\n",
    "    print(thisdict[x])"
   ]
  },
  {
   "cell_type": "code",
   "execution_count": 33,
   "id": "bf20bfcd-ac9d-4a98-a3bd-284d4a176682",
   "metadata": {},
   "outputs": [
    {
     "name": "stdout",
     "output_type": "stream",
     "text": [
      "Brand Ford\n",
      "Model Mustang\n",
      "Year 1964\n"
     ]
    }
   ],
   "source": [
    "thisdict = {\"Brand\":\"Ford\",\"Model\":\"Mustang\",\"Year\":1964}\n",
    "for x,y in thisdict.items():\n",
    "    print(x,y)"
   ]
  },
  {
   "cell_type": "markdown",
   "id": "fbfd334d-e093-4b37-91bd-1eaea3a672c2",
   "metadata": {},
   "source": [
    "# Copy of a dictionary"
   ]
  },
  {
   "cell_type": "code",
   "execution_count": 34,
   "id": "853560c4-0652-485e-9165-eca6f6e6b1a7",
   "metadata": {},
   "outputs": [
    {
     "name": "stdout",
     "output_type": "stream",
     "text": [
      "{'Brand': 'Ford', 'Model': 'Mustang', 'Year': 1964}\n"
     ]
    }
   ],
   "source": [
    "thisdict = {\"Brand\":\"Ford\",\"Model\":\"Mustang\",\"Year\":1964}\n",
    "copied = thisdict.copy()\n",
    "print(copied)"
   ]
  },
  {
   "cell_type": "markdown",
   "id": "8da3afe7-2226-4ad3-b692-7f951ea94866",
   "metadata": {},
   "source": [
    "# Nested dictionaries"
   ]
  },
  {
   "cell_type": "markdown",
   "id": "e202d6cc-ed70-4db2-9703-03a71c456ddf",
   "metadata": {},
   "source": [
    "- A dictionary can contain dictionaries, this is called nested dictionaries"
   ]
  },
  {
   "cell_type": "code",
   "execution_count": 36,
   "id": "2d42fae3-57e3-4609-9ce4-7f9f6b712a38",
   "metadata": {},
   "outputs": [
    {
     "name": "stdout",
     "output_type": "stream",
     "text": [
      "{'child 1': {'Name': 'Emily', 'Year': 2004}, 'child 2': {'Name': 'Tobias', 'Year': 2007}, 'child 3': {'Name': 'Linus', 'Year': 2011}}\n"
     ]
    }
   ],
   "source": [
    "myfamily = {\n",
    "    \"child 1\" : {\n",
    "        \"Name\" : \"Emily\",\n",
    "        \"Year\" : 2004\n",
    "    },\n",
    "    \"child 2\" : {\n",
    "        \"Name\" : \"Tobias\",\n",
    "        \"Year\" : 2007\n",
    "    },\n",
    "    \"child 3\" : {\n",
    "        \"Name\" : \"Linus\",\n",
    "        \"Year\" : 2011\n",
    "    }\n",
    "}\n",
    "print(myfamily)"
   ]
  },
  {
   "cell_type": "markdown",
   "id": "274a0078-01d6-4ff2-8a97-fd49b9ecb0b2",
   "metadata": {},
   "source": [
    "# Access items in nested dictionaries"
   ]
  },
  {
   "cell_type": "code",
   "execution_count": 37,
   "id": "b6f8b327-b42a-4105-8d63-a18aefa2cb0c",
   "metadata": {},
   "outputs": [
    {
     "name": "stdout",
     "output_type": "stream",
     "text": [
      "Linus\n"
     ]
    }
   ],
   "source": [
    "myfamily = {\n",
    "    \"child 1\" : {\n",
    "        \"Name\" : \"Emily\",\n",
    "        \"Year\" : 2004\n",
    "    },\n",
    "    \"child 2\" : {\n",
    "        \"Name\" : \"Tobias\",\n",
    "        \"Year\" : 2007\n",
    "    },\n",
    "    \"child 3\" : {\n",
    "        \"Name\" : \"Linus\",\n",
    "        \"Year\" : 2011\n",
    "    }\n",
    "}\n",
    "print(myfamily[\"child 3\"][\"Name\"])"
   ]
  },
  {
   "cell_type": "markdown",
   "id": "c63084de-4de5-4e7a-a7bb-5e2606c20485",
   "metadata": {},
   "source": [
    "# Loop through nested dictionaries"
   ]
  },
  {
   "cell_type": "code",
   "execution_count": 38,
   "id": "e48d1b06-3501-4469-8d75-6d439abb6082",
   "metadata": {},
   "outputs": [
    {
     "name": "stdout",
     "output_type": "stream",
     "text": [
      "child 1\n",
      "Name: Emily\n",
      "Year: 2004\n",
      "child 2\n",
      "Name: Tobias\n",
      "Year: 2007\n",
      "child 3\n",
      "Name: Linus\n",
      "Year: 2011\n"
     ]
    }
   ],
   "source": [
    "myfamily = {\n",
    "    \"child 1\" : {\n",
    "        \"Name\" : \"Emily\",\n",
    "        \"Year\" : 2004\n",
    "    },\n",
    "    \"child 2\" : {\n",
    "        \"Name\" : \"Tobias\",\n",
    "        \"Year\" : 2007\n",
    "    },\n",
    "    \"child 3\" : {\n",
    "        \"Name\" : \"Linus\",\n",
    "        \"Year\" : 2011\n",
    "    }\n",
    "}\n",
    "for x,obj in myfamily.items():\n",
    "    print(x)\n",
    "    for y in obj:\n",
    "        print(y + \":\",obj[y])"
   ]
  },
  {
   "cell_type": "code",
   "execution_count": null,
   "id": "466cfe1f-5037-4cac-a04f-a73638057f7f",
   "metadata": {},
   "outputs": [],
   "source": []
  }
 ],
 "metadata": {
  "kernelspec": {
   "display_name": "Python 3 (ipykernel)",
   "language": "python",
   "name": "python3"
  },
  "language_info": {
   "codemirror_mode": {
    "name": "ipython",
    "version": 3
   },
   "file_extension": ".py",
   "mimetype": "text/x-python",
   "name": "python",
   "nbconvert_exporter": "python",
   "pygments_lexer": "ipython3",
   "version": "3.12.7"
  }
 },
 "nbformat": 4,
 "nbformat_minor": 5
}
