{
 "cells": [
  {
   "cell_type": "markdown",
   "id": "7d9188cd-ff2d-48ee-8da1-f7ed93d703fb",
   "metadata": {},
   "source": [
    "# Python loops"
   ]
  },
  {
   "cell_type": "code",
   "execution_count": 6,
   "id": "92d48a35-5a33-40b6-8b76-c08b5bfc29de",
   "metadata": {},
   "outputs": [
    {
     "name": "stdout",
     "output_type": "stream",
     "text": [
      "10\n",
      "9\n",
      "8\n",
      "7\n",
      "6\n"
     ]
    }
   ],
   "source": [
    "i = 10\n",
    "while i >= 6:\n",
    "    print(i)\n",
    "    i -= 1"
   ]
  },
  {
   "cell_type": "code",
   "execution_count": 8,
   "id": "5cf8d820-ddfe-48a7-af1d-a4cbbb0582e0",
   "metadata": {},
   "outputs": [
    {
     "name": "stdin",
     "output_type": "stream",
     "text": [
      "Enter a number:  4\n"
     ]
    },
    {
     "name": "stdout",
     "output_type": "stream",
     "text": [
      "24\n"
     ]
    }
   ],
   "source": [
    "# using loops to print factorial\n",
    "num = int(input(\"Enter a number: \"))\n",
    "fact = 1\n",
    "for i in range(1,num+1):\n",
    "    fact *= i\n",
    "print(fact)"
   ]
  },
  {
   "cell_type": "code",
   "execution_count": 12,
   "id": "1a57dc99-61f9-43ef-8da5-37763fd6830e",
   "metadata": {},
   "outputs": [
    {
     "name": "stdin",
     "output_type": "stream",
     "text": [
      "Enter a number 3\n"
     ]
    },
    {
     "name": "stdout",
     "output_type": "stream",
     "text": [
      "6\n"
     ]
    }
   ],
   "source": [
    "num = int(input(\"Enter a number\"))\n",
    "s = 0\n",
    "for i in range(0,num + 1):\n",
    "    s += i\n",
    "print(s)"
   ]
  },
  {
   "cell_type": "code",
   "execution_count": 14,
   "id": "e13ad428-5516-4a0f-8221-c3543ef66e40",
   "metadata": {},
   "outputs": [
    {
     "name": "stdin",
     "output_type": "stream",
     "text": [
      "Enter a number: 5\n"
     ]
    },
    {
     "name": "stdout",
     "output_type": "stream",
     "text": [
      "Odd\n"
     ]
    }
   ],
   "source": [
    "num = int(input(\"Enter a number:\"))\n",
    "if num % 2 == 0:\n",
    "    print(\"Even\")\n",
    "else:\n",
    "    print(\"Odd\")"
   ]
  },
  {
   "cell_type": "code",
   "execution_count": 19,
   "id": "335dd950-1c72-4b8f-9f61-cf1fbcad09a6",
   "metadata": {},
   "outputs": [
    {
     "name": "stdout",
     "output_type": "stream",
     "text": [
      "Count of even numbers is  6\n",
      "Count of odd numbers is  5\n"
     ]
    }
   ],
   "source": [
    "x = [4,6,7,8,9,32,45,67,21,88,976]\n",
    "cnt = 0\n",
    "oddcnt = 0\n",
    "for i in x:\n",
    "    if(i % 2 == 0):\n",
    "        cnt += 1\n",
    "    else:\n",
    "        oddcnt += 1\n",
    "print(\"Count of even numbers is \",cnt)\n",
    "print(\"Count of odd numbers is \",oddcnt)"
   ]
  },
  {
   "cell_type": "code",
   "execution_count": 20,
   "id": "f1a8def3-08ba-44eb-95a7-bc2bec45220c",
   "metadata": {},
   "outputs": [
    {
     "name": "stdout",
     "output_type": "stream",
     "text": [
      "Number found is  98\n"
     ]
    }
   ],
   "source": [
    "for i in range(0,123):\n",
    "    if i == 98:\n",
    "        break\n",
    "print(\"Number found is \",i)"
   ]
  },
  {
   "cell_type": "code",
   "execution_count": null,
   "id": "9dfc2fe6-de80-4e07-ae89-a9ec03675f18",
   "metadata": {},
   "outputs": [],
   "source": []
  }
 ],
 "metadata": {
  "kernelspec": {
   "display_name": "Python 3 (ipykernel)",
   "language": "python",
   "name": "python3"
  },
  "language_info": {
   "codemirror_mode": {
    "name": "ipython",
    "version": 3
   },
   "file_extension": ".py",
   "mimetype": "text/x-python",
   "name": "python",
   "nbconvert_exporter": "python",
   "pygments_lexer": "ipython3",
   "version": "3.12.7"
  }
 },
 "nbformat": 4,
 "nbformat_minor": 5
}
