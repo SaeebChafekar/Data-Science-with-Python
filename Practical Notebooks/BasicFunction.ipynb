{
  "cells": [
    {
      "cell_type": "markdown",
      "id": "cc121077-d3f3-457d-93ce-7faf9f615d98",
      "metadata": {
        "id": "cc121077-d3f3-457d-93ce-7faf9f615d98"
      },
      "source": [
        "# Python - Functions\n"
      ]
    },
    {
      "cell_type": "markdown",
      "id": "4028564c-a84c-40a6-bef4-7ade7e35704f",
      "metadata": {
        "id": "4028564c-a84c-40a6-bef4-7ade7e35704f"
      },
      "source": [
        "# Example to Define a Python Function"
      ]
    },
    {
      "cell_type": "code",
      "execution_count": 1,
      "id": "498f9c91-7a85-4398-a1ca-0a659e869149",
      "metadata": {
        "id": "498f9c91-7a85-4398-a1ca-0a659e869149",
        "outputId": "9b6b5e70-f203-454c-925f-a2b061123bb3"
      },
      "outputs": [
        {
          "name": "stdout",
          "output_type": "stream",
          "text": [
            "Hello World\n"
          ]
        }
      ],
      "source": [
        "def greetings():\n",
        "   \"This is docstring of greetings function\"\n",
        "   print(\"Hello World\")\n",
        "   return;\n",
        "greetings()"
      ]
    },
    {
      "cell_type": "markdown",
      "id": "e6294e73-8168-483f-ad0d-2836bfca1b8e",
      "metadata": {
        "id": "e6294e73-8168-483f-ad0d-2836bfca1b8e"
      },
      "source": [
        "# Calling a Python Function"
      ]
    },
    {
      "cell_type": "code",
      "execution_count": 2,
      "id": "653b32d3-ff26-498f-b0f6-b6214e5708ee",
      "metadata": {
        "id": "653b32d3-ff26-498f-b0f6-b6214e5708ee",
        "outputId": "09a72e7e-d876-4e72-a3cb-a0c80eb77a93"
      },
      "outputs": [
        {
          "name": "stdout",
          "output_type": "stream",
          "text": [
            "I'm first call to user defined function!\n",
            "Again second call to the same function\n"
          ]
        }
      ],
      "source": [
        "# Function definition is here\n",
        "def printme( str ):\n",
        "   \"This prints a passed string into this function\"\n",
        "   print (str)\n",
        "   return;\n",
        "\n",
        "# Now you can call the function\n",
        "printme(\"I'm first call to user defined function!\")\n",
        "printme(\"Again second call to the same function\")"
      ]
    },
    {
      "cell_type": "code",
      "execution_count": 3,
      "id": "ab7a1c3b-cd2c-4379-8d03-a60c012a718d",
      "metadata": {
        "id": "ab7a1c3b-cd2c-4379-8d03-a60c012a718d",
        "outputId": "9f0e5825-7f60-4145-bd6c-b4ca1136b81a"
      },
      "outputs": [
        {
          "name": "stdout",
          "output_type": "stream",
          "text": [
            "Hello Sham\n",
            "Hello Pratima\n",
            "Hello Ram\n"
          ]
        }
      ],
      "source": [
        "# Let's modify greetings function and have name an argument. A string passed to the function as actual argument becomes name variable inside the function.\n",
        "\n",
        "def greetings(name):\n",
        "   \"This is docstring of greetings function\"\n",
        "   print (\"Hello {}\".format(name))\n",
        "   return\n",
        "\n",
        "greetings(\"Sham\")\n",
        "greetings(\"Pratima\")\n",
        "greetings(\"Ram\")"
      ]
    },
    {
      "cell_type": "markdown",
      "id": "22a44afc",
      "metadata": {},
      "source": [
        "# Passing by Value Vs Reference"
      ]
    },
    {
      "cell_type": "code",
      "execution_count": 4,
      "id": "163f73ec-c40e-470c-841f-22f9977f8c19",
      "metadata": {
        "id": "163f73ec-c40e-470c-841f-22f9977f8c19",
        "outputId": "8908a1fe-5aa3-4232-a289-c46e5926607a"
      },
      "outputs": [
        {
          "name": "stdout",
          "output_type": "stream",
          "text": [
            "ID before passing: 2513388541328\n",
            "ID inside the function: 2513388541328\n"
          ]
        }
      ],
      "source": [
        "# In the following example, we are checking the id() of a variable.\n",
        "def testfunction(arg):\n",
        "   print (\"ID inside the function:\", id(arg))\n",
        "\n",
        "var = \"Hello\"\n",
        "print (\"ID before passing:\", id(var))\n",
        "testfunction(var)"
      ]
    },
    {
      "cell_type": "code",
      "execution_count": 5,
      "id": "7f2264a2-107a-4de5-b046-59e49c1a3362",
      "metadata": {
        "id": "7f2264a2-107a-4de5-b046-59e49c1a3362",
        "outputId": "cafa99d6-ef1d-40e2-f0d4-3e5a2042b61a"
      },
      "outputs": [
        {
          "name": "stdout",
          "output_type": "stream",
          "text": [
            "ID before passing: 140712596490968\n",
            "ID inside the function: 140712596490968\n",
            "new object after increment 11 140712596491000\n",
            "value after function call 10\n"
          ]
        }
      ],
      "source": [
        "#If the above code is executed, the id() before passing and inside the function will be displayed.\n",
        "# The behavior also depends on whether the passed object is mutable or immutable. Python numeric object is immutable. When a numeric object is passed, and then the function changes the value of the formal argument, it actually creates a new object in the memory, leaving the original variable unchanged.\n",
        "# The following example shows how an immutable object behaves when it is passed to a function.\n",
        "def testfunction(arg):\n",
        "   print (\"ID inside the function:\", id(arg))\n",
        "   arg = arg + 1\n",
        "   print (\"new object after increment\", arg, id(arg))\n",
        "\n",
        "var=10\n",
        "print (\"ID before passing:\", id(var))\n",
        "testfunction(var)\n",
        "print (\"value after function call\", var)"
      ]
    },
    {
      "cell_type": "code",
      "execution_count": 6,
      "id": "4ed005a7-987a-4822-a0c0-e42c69d78453",
      "metadata": {
        "id": "4ed005a7-987a-4822-a0c0-e42c69d78453",
        "outputId": "0bf5ca1d-b879-4869-8ff3-fa04a1396881"
      },
      "outputs": [
        {
          "name": "stdout",
          "output_type": "stream",
          "text": [
            "ID before passing: 2513388661056\n",
            "Inside function: [10, 20, 30, 40]\n",
            "ID inside the function: 2513388661056\n",
            "list after function call [10, 20, 30, 40, 100]\n"
          ]
        }
      ],
      "source": [
        "# Let us now pass a mutable object (such as a list or dictionary) to a function. It is also passed by reference, as the id() of list before and after passing is same. However, if we modify the list inside the function, its global representation also reflects the change.\n",
        "\n",
        "# Example\n",
        "# Here we pass a list, append a new item, and see the contents of original list object, which we will find has changed.\n",
        "def testfunction(arg):\n",
        "   print (\"Inside function:\",arg)\n",
        "   print (\"ID inside the function:\", id(arg))\n",
        "   arg=arg.append(100)\n",
        "\n",
        "var=[10, 20, 30, 40]\n",
        "print (\"ID before passing:\", id(var))\n",
        "testfunction(var)\n",
        "print (\"list after function call\", var)"
      ]
    },
    {
      "cell_type": "markdown",
      "id": "18b03b88-aaae-49fd-9009-8ce9e62710ec",
      "metadata": {
        "id": "18b03b88-aaae-49fd-9009-8ce9e62710ec"
      },
      "source": [
        "# Positional or Required Arguments"
      ]
    },
    {
      "cell_type": "code",
      "execution_count": 7,
      "id": "82754205-ea75-4072-8c1c-ff0f26f5edce",
      "metadata": {
        "id": "82754205-ea75-4072-8c1c-ff0f26f5edce",
        "outputId": "93d8e69d-2bd4-47d2-d251-fd8573849322"
      },
      "outputs": [
        {
          "ename": "TypeError",
          "evalue": "printme() missing 1 required positional argument: 'str'",
          "output_type": "error",
          "traceback": [
            "\u001b[31m---------------------------------------------------------------------------\u001b[39m",
            "\u001b[31mTypeError\u001b[39m                                 Traceback (most recent call last)",
            "\u001b[36mCell\u001b[39m\u001b[36m \u001b[39m\u001b[32mIn[7]\u001b[39m\u001b[32m, line 8\u001b[39m\n\u001b[32m      5\u001b[39m    \u001b[38;5;28;01mreturn\u001b[39;00m;\n\u001b[32m      7\u001b[39m \u001b[38;5;66;03m# Now you can call printme function\u001b[39;00m\n\u001b[32m----> \u001b[39m\u001b[32m8\u001b[39m \u001b[43mprintme\u001b[49m\u001b[43m(\u001b[49m\u001b[43m)\u001b[49m\n",
            "\u001b[31mTypeError\u001b[39m: printme() missing 1 required positional argument: 'str'"
          ]
        }
      ],
      "source": [
        "# Function definition is here\n",
        "def printme( str ):\n",
        "   \"This prints a passed string into this function\"\n",
        "   print (str)\n",
        "   return;\n",
        "\n",
        "# Now you can call printme function\n",
        "printme()"
      ]
    },
    {
      "cell_type": "markdown",
      "id": "cddfc5f3-29f6-45d7-8fd4-d18268e755db",
      "metadata": {
        "id": "cddfc5f3-29f6-45d7-8fd4-d18268e755db"
      },
      "source": [
        "# Keyword Arguments"
      ]
    },
    {
      "cell_type": "code",
      "execution_count": null,
      "id": "857e60e4-2d2b-4bd7-bcaa-0794ff255372",
      "metadata": {
        "id": "857e60e4-2d2b-4bd7-bcaa-0794ff255372",
        "outputId": "fd66d6dc-5fc5-4b48-8674-da926cd229e0"
      },
      "outputs": [
        {
          "name": "stdout",
          "output_type": "stream",
          "text": [
            "Name:  miki\n",
            "Age  50\n"
          ]
        }
      ],
      "source": [
        "# Function definition is here\n",
        "def printinfo( name, age ):\n",
        "   \"This prints a passed info into this function\"\n",
        "   print (\"Name: \", name)\n",
        "   print (\"Age \", age)\n",
        "   return;\n",
        "\n",
        "# Now you can call printinfo function\n",
        "printinfo( age=50, name=\"miki\" )"
      ]
    },
    {
      "cell_type": "markdown",
      "id": "a5578556-9c90-4a93-85d4-175028dbbbce",
      "metadata": {
        "id": "a5578556-9c90-4a93-85d4-175028dbbbce"
      },
      "source": [
        "# Default Arguments"
      ]
    },
    {
      "cell_type": "code",
      "execution_count": null,
      "id": "7b7814da-fc0b-41d3-babc-22c2b7944f64",
      "metadata": {
        "id": "7b7814da-fc0b-41d3-babc-22c2b7944f64",
        "outputId": "67a63ebc-57fb-45c9-b9d0-08c128277266"
      },
      "outputs": [
        {
          "name": "stdout",
          "output_type": "stream",
          "text": [
            "Name:  mdl\n",
            "Age  50\n",
            "Name:  mdl\n",
            "Age  35\n"
          ]
        }
      ],
      "source": [
        "# Function definition is here\n",
        "def printinfo( name, age = 35 ):\n",
        "   \"This prints a passed info into this function\"\n",
        "   print (\"Name: \", name)\n",
        "   print (\"Age \", age)\n",
        "   return;\n",
        "\n",
        "# Now you can call printinfo function\n",
        "printinfo( age=50, name=\"mdl\" )\n",
        "printinfo( name=\"mdl\" )"
      ]
    },
    {
      "cell_type": "markdown",
      "id": "8945542e-5d31-4352-adff-f707518c880d",
      "metadata": {
        "id": "8945542e-5d31-4352-adff-f707518c880d"
      },
      "source": [
        "# Positional-only arguments\n"
      ]
    },
    {
      "cell_type": "code",
      "execution_count": null,
      "id": "1e25d482-651a-4109-b214-7e52c0530e2a",
      "metadata": {
        "id": "1e25d482-651a-4109-b214-7e52c0530e2a",
        "outputId": "123027b9-d7c7-49ea-dafe-b021adb2b6ea"
      },
      "outputs": [
        {
          "name": "stdout",
          "output_type": "stream",
          "text": [
            "Evaluating positional-only arguments: \n",
            "66\n"
          ]
        }
      ],
      "source": [
        "def posFun(x, y, /, z):\n",
        "    print(x + y + z)\n",
        "\n",
        "print(\"Evaluating positional-only arguments: \")\n",
        "posFun(33, 22, z=11)"
      ]
    },
    {
      "cell_type": "markdown",
      "id": "09437714-aac9-4e7a-b21e-a716c604b1fd",
      "metadata": {
        "id": "09437714-aac9-4e7a-b21e-a716c604b1fd"
      },
      "source": [
        "# Keyword-only arguments\n"
      ]
    },
    {
      "cell_type": "code",
      "execution_count": null,
      "id": "a5f40de1-97fe-4619-920a-c2536457051f",
      "metadata": {
        "id": "a5f40de1-97fe-4619-920a-c2536457051f",
        "outputId": "0b206b2a-d1f4-4b5e-cc24-28d3d9c97154"
      },
      "outputs": [
        {
          "name": "stdout",
          "output_type": "stream",
          "text": [
            "Evaluating keyword-only arguments: \n",
            "240\n"
          ]
        }
      ],
      "source": [
        "def posFun(*, num1, num2, num3):\n",
        "    print(num1 * num2 * num3)\n",
        "\n",
        "print(\"Evaluating keyword-only arguments: \")\n",
        "posFun(num3=6, num2=8, num1=5)"
      ]
    },
    {
      "cell_type": "markdown",
      "id": "f11d896d-efd4-4cfe-9a5f-992594fabbf5",
      "metadata": {
        "id": "f11d896d-efd4-4cfe-9a5f-992594fabbf5"
      },
      "source": [
        "# Arbitrary or Variable-length Arguments"
      ]
    },
    {
      "cell_type": "code",
      "execution_count": null,
      "id": "9df967be-0d3e-4ebf-bc45-09e68c3405cd",
      "metadata": {
        "id": "9df967be-0d3e-4ebf-bc45-09e68c3405cd"
      },
      "outputs": [],
      "source": [
        "# Syntax for a function with non-keyword variable arguments is this −\n",
        "def functionname([formal_args,] *var_args_tuple ):\n",
        "   \"function_docstring\"\n",
        "   function_suite\n",
        "   return [expression]"
      ]
    },
    {
      "cell_type": "code",
      "execution_count": null,
      "id": "5924d243-bdad-4ccb-a6b7-b2d69daba364",
      "metadata": {
        "id": "5924d243-bdad-4ccb-a6b7-b2d69daba364",
        "outputId": "caf428e8-8b20-431f-8dfc-03b74259fa3f"
      },
      "outputs": [
        {
          "name": "stdout",
          "output_type": "stream",
          "text": [
            "Output is: \n",
            "10\n",
            "Output is: \n",
            "70\n",
            "60\n",
            "50\n"
          ]
        }
      ],
      "source": [
        "# Function definition is here\n",
        "def printinfo( arg1, *vartuple ):\n",
        "   \"This prints a variable passed arguments\"\n",
        "   print (\"Output is: \")\n",
        "   print (arg1)\n",
        "   for var in vartuple:\n",
        "      print (var)\n",
        "   return;\n",
        "\n",
        "# Now you can call printinfo function\n",
        "printinfo( 10 )\n",
        "printinfo( 70, 60, 50 )"
      ]
    },
    {
      "cell_type": "markdown",
      "id": "41c1a972-9250-4248-8004-0cd6eb2e193f",
      "metadata": {
        "id": "41c1a972-9250-4248-8004-0cd6eb2e193f"
      },
      "source": [
        "# Python Function with Return Value"
      ]
    },
    {
      "cell_type": "code",
      "execution_count": null,
      "id": "5046b533-8dd5-44c6-abd7-58932e69bbfb",
      "metadata": {
        "id": "5046b533-8dd5-44c6-abd7-58932e69bbfb",
        "outputId": "488690de-a8e7-42b6-b12a-7e1ba922a257"
      },
      "outputs": [
        {
          "name": "stdout",
          "output_type": "stream",
          "text": [
            "a = 10 b = 20 a+b = 30\n"
          ]
        }
      ],
      "source": [
        "def add(x,y):\n",
        "   z=x+y\n",
        "   return z\n",
        "a=10\n",
        "b=20\n",
        "result = add(a,b)\n",
        "print (\"a = {} b = {} a+b = {}\".format(a, b, result))"
      ]
    },
    {
      "cell_type": "markdown",
      "id": "d824f366-aa1c-4f70-8c8f-ded0709a8079",
      "metadata": {
        "id": "d824f366-aa1c-4f70-8c8f-ded0709a8079"
      },
      "source": [
        "# The Anonymous Functions"
      ]
    },
    {
      "cell_type": "code",
      "execution_count": null,
      "id": "92020673-9c18-4795-8fa4-a8b3d94203c0",
      "metadata": {
        "id": "92020673-9c18-4795-8fa4-a8b3d94203c0",
        "outputId": "1dbd3db3-d60e-4d94-e27b-f3f01d5ac2cd"
      },
      "outputs": [
        {
          "name": "stdout",
          "output_type": "stream",
          "text": [
            "Value of total :  30\n",
            "Value of total :  40\n"
          ]
        }
      ],
      "source": [
        "# The syntax of lambda functions contains only a single statement, which is as follows −\n",
        "# Function definition is here\n",
        "sum = lambda arg1, arg2: arg1 + arg2;\n",
        "\n",
        "# Now you can call sum as a function\n",
        "print (\"Value of total : \", sum( 10, 20 ))\n",
        "print (\"Value of total : \", sum( 20, 20 ))"
      ]
    },
    {
      "cell_type": "markdown",
      "id": "1043d81c-087b-46ed-ae6b-cd99660396ae",
      "metadata": {
        "id": "1043d81c-087b-46ed-ae6b-cd99660396ae"
      },
      "source": [
        "# Scope of Variables\n",
        "# Global vs. Local variables\n"
      ]
    },
    {
      "cell_type": "code",
      "execution_count": null,
      "id": "79f3170c-4d4d-4071-8e95-2c1bc78e8cd8",
      "metadata": {
        "id": "79f3170c-4d4d-4071-8e95-2c1bc78e8cd8",
        "outputId": "2bfcd5ce-88fa-4118-d4f2-14f166ecfcab"
      },
      "outputs": [
        {
          "name": "stdout",
          "output_type": "stream",
          "text": [
            "Inside the function local total :  30\n",
            "Outside the function global total :  0\n"
          ]
        }
      ],
      "source": [
        "total = 0; # This is global variable.\n",
        "# Function definition is here\n",
        "def sum( arg1, arg2 ):\n",
        "   # Add both the parameters and return them.\"\n",
        "   total = arg1 + arg2; # Here total is local variable.\n",
        "   print (\"Inside the function local total : \", total)\n",
        "   return total;\n",
        "\n",
        "# Now you can call sum function\n",
        "sum( 10, 20 );\n",
        "print (\"Outside the function global total : \", total)"
      ]
    }
  ],
  "metadata": {
    "colab": {
      "provenance": []
    },
    "kernelspec": {
      "display_name": "Python 3",
      "language": "python",
      "name": "python3"
    },
    "language_info": {
      "codemirror_mode": {
        "name": "ipython",
        "version": 3
      },
      "file_extension": ".py",
      "mimetype": "text/x-python",
      "name": "python",
      "nbconvert_exporter": "python",
      "pygments_lexer": "ipython3",
      "version": "3.12.10"
    }
  },
  "nbformat": 4,
  "nbformat_minor": 5
}
