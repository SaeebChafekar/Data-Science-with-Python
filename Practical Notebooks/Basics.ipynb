{
 "cells": [
  {
   "cell_type": "markdown",
   "id": "2d114011-69e6-4ef5-90ed-fca2a29b4101",
   "metadata": {},
   "source": [
    "# Python programming"
   ]
  },
  {
   "cell_type": "markdown",
   "id": "4683a4ab-9ad9-4534-844e-e19f7d47c257",
   "metadata": {},
   "source": [
    "- Data Types"
   ]
  },
  {
   "cell_type": "code",
   "execution_count": 63,
   "id": "7b34dd11-07e5-4f67-a198-718a8bb28d27",
   "metadata": {},
   "outputs": [
    {
     "data": {
      "text/plain": [
       "int"
      ]
     },
     "execution_count": 63,
     "metadata": {},
     "output_type": "execute_result"
    }
   ],
   "source": [
    "type (45)"
   ]
  },
  {
   "cell_type": "code",
   "execution_count": 64,
   "id": "2ad37b92-20c7-4c7a-894f-ae95154a20c7",
   "metadata": {},
   "outputs": [
    {
     "data": {
      "text/plain": [
       "str"
      ]
     },
     "execution_count": 64,
     "metadata": {},
     "output_type": "execute_result"
    }
   ],
   "source": [
    "type (\"Saeeb\")"
   ]
  },
  {
   "cell_type": "code",
   "execution_count": 65,
   "id": "06781c04-a9be-46fa-8301-b608a1f9bf8b",
   "metadata": {},
   "outputs": [
    {
     "data": {
      "text/plain": [
       "bool"
      ]
     },
     "execution_count": 65,
     "metadata": {},
     "output_type": "execute_result"
    }
   ],
   "source": [
    "type (False)"
   ]
  },
  {
   "cell_type": "code",
   "execution_count": 66,
   "id": "dc9b9d61-093a-43e5-b002-47f4b291a205",
   "metadata": {},
   "outputs": [
    {
     "data": {
      "text/plain": [
       "float"
      ]
     },
     "execution_count": 66,
     "metadata": {},
     "output_type": "execute_result"
    }
   ],
   "source": [
    "type (1.0)"
   ]
  },
  {
   "cell_type": "markdown",
   "id": "8823f246-c3c7-41d5-8bbb-399a0f020ae4",
   "metadata": {},
   "source": [
    "- Strings"
   ]
  },
  {
   "cell_type": "code",
   "execution_count": 67,
   "id": "ac75e4bf-f104-46de-926e-7274e62200e9",
   "metadata": {},
   "outputs": [
    {
     "data": {
      "text/plain": [
       "'hello'"
      ]
     },
     "execution_count": 67,
     "metadata": {},
     "output_type": "execute_result"
    }
   ],
   "source": [
    "\"hello\""
   ]
  },
  {
   "cell_type": "code",
   "execution_count": 68,
   "id": "52fd51c0-89a7-4656-bdbc-8f38f6927e62",
   "metadata": {},
   "outputs": [
    {
     "data": {
      "text/plain": [
       "'hello'"
      ]
     },
     "execution_count": 68,
     "metadata": {},
     "output_type": "execute_result"
    }
   ],
   "source": [
    "'hello'"
   ]
  },
  {
   "cell_type": "markdown",
   "id": "82721a14-9e7f-4241-ad3e-7bfb9dba2415",
   "metadata": {},
   "source": [
    "# Variable assignment"
   ]
  },
  {
   "cell_type": "code",
   "execution_count": 69,
   "id": "8beeb126-b3ff-4105-a059-e055a42c17e5",
   "metadata": {},
   "outputs": [],
   "source": [
    "# var_name = value"
   ]
  },
  {
   "cell_type": "code",
   "execution_count": 70,
   "id": "655baf2b-7ce1-4932-911b-ce9fa389b28d",
   "metadata": {},
   "outputs": [],
   "source": [
    "a = 24"
   ]
  },
  {
   "cell_type": "code",
   "execution_count": 71,
   "id": "cf94ac68-fb05-400d-9270-acecbbd31527",
   "metadata": {},
   "outputs": [
    {
     "data": {
      "text/plain": [
       "int"
      ]
     },
     "execution_count": 71,
     "metadata": {},
     "output_type": "execute_result"
    }
   ],
   "source": [
    "type (a)"
   ]
  },
  {
   "cell_type": "code",
   "execution_count": 72,
   "id": "54dae684-1bee-42b7-af1e-1b690b594293",
   "metadata": {},
   "outputs": [],
   "source": [
    "a = 'Saeeb'"
   ]
  },
  {
   "cell_type": "code",
   "execution_count": 73,
   "id": "b4c8342b-2c0e-47f6-82a2-3f992b7f0c51",
   "metadata": {},
   "outputs": [
    {
     "data": {
      "text/plain": [
       "str"
      ]
     },
     "execution_count": 73,
     "metadata": {},
     "output_type": "execute_result"
    }
   ],
   "source": [
    "type (a)"
   ]
  },
  {
   "cell_type": "markdown",
   "id": "bddc259c-a5e9-4705-aed3-aea079606a4a",
   "metadata": {},
   "source": [
    "# Print function"
   ]
  },
  {
   "cell_type": "code",
   "execution_count": 74,
   "id": "f718bf5c-2aa7-4f54-b2dc-44f862a2833f",
   "metadata": {},
   "outputs": [
    {
     "name": "stdout",
     "output_type": "stream",
     "text": [
      "45\n"
     ]
    }
   ],
   "source": [
    "a = 25\n",
    "b = 20\n",
    "print(a + b)"
   ]
  },
  {
   "cell_type": "code",
   "execution_count": 75,
   "id": "0254b65f-2e7a-4609-af76-a5a33b67e2f5",
   "metadata": {},
   "outputs": [
    {
     "name": "stdout",
     "output_type": "stream",
     "text": [
      "5\n"
     ]
    }
   ],
   "source": [
    "print(a - b)"
   ]
  },
  {
   "cell_type": "code",
   "execution_count": 76,
   "id": "677f15b9-373a-47fc-b29c-996c2a89c468",
   "metadata": {},
   "outputs": [
    {
     "name": "stdout",
     "output_type": "stream",
     "text": [
      "5\n"
     ]
    }
   ],
   "source": [
    "print(a % b)"
   ]
  },
  {
   "cell_type": "code",
   "execution_count": 77,
   "id": "3fa2cff8-38b7-42fe-9a0e-64e061338fb4",
   "metadata": {},
   "outputs": [
    {
     "name": "stdout",
     "output_type": "stream",
     "text": [
      "1.25\n"
     ]
    }
   ],
   "source": [
    "print(a / b)"
   ]
  },
  {
   "cell_type": "code",
   "execution_count": 78,
   "id": "ae6e5fcf-8de1-4389-aadb-d0e992f69ad7",
   "metadata": {},
   "outputs": [
    {
     "name": "stdout",
     "output_type": "stream",
     "text": [
      "501.25\n"
     ]
    }
   ],
   "source": [
    "print((a * b) + (a / b))"
   ]
  },
  {
   "cell_type": "markdown",
   "id": "0b1995d8-3ce9-4b9c-ba49-940d8bb45bed",
   "metadata": {},
   "source": [
    "# Single Variables"
   ]
  },
  {
   "cell_type": "code",
   "execution_count": 79,
   "id": "8ff2fc9f-fe72-467a-86f7-2fcbc2cb7fe5",
   "metadata": {},
   "outputs": [
    {
     "name": "stdout",
     "output_type": "stream",
     "text": [
      "<class 'str'>\n"
     ]
    }
   ],
   "source": [
    "st = \"Aryan\"\n",
    "print(str)"
   ]
  },
  {
   "cell_type": "markdown",
   "id": "5b25f925-ff25-4446-b353-8824c40c9e97",
   "metadata": {},
   "source": [
    "# Multiple Variables"
   ]
  },
  {
   "cell_type": "code",
   "execution_count": 80,
   "id": "4fbad0bc-ab2e-469e-9780-a5060e8653c3",
   "metadata": {},
   "outputs": [
    {
     "name": "stdout",
     "output_type": "stream",
     "text": [
      "Ram is  25 Lonere\n"
     ]
    }
   ],
   "source": [
    "st = \"Ram is \"\n",
    "age = 25\n",
    "city = \"Lonere\"\n",
    "print(st,age,city) #Concatenation"
   ]
  },
  {
   "cell_type": "code",
   "execution_count": 81,
   "id": "d277239e-bfa9-48e5-82ff-cc875f2673e6",
   "metadata": {},
   "outputs": [],
   "source": [
    "first_name = 'Saeeb'\n",
    "last_name = 'Chafekar'"
   ]
  },
  {
   "cell_type": "code",
   "execution_count": 82,
   "id": "c5cb17e0-8154-4def-93f9-bb35d0ed14b2",
   "metadata": {},
   "outputs": [
    {
     "name": "stdout",
     "output_type": "stream",
     "text": [
      "My first name is Saeeb and last name is Chafekar\n"
     ]
    }
   ],
   "source": [
    "print(\"My first name is {} and last name is {}\".format(first_name,last_name))"
   ]
  },
  {
   "cell_type": "code",
   "execution_count": 83,
   "id": "7fa81b98-0b71-48d8-997d-99e4db6b7225",
   "metadata": {},
   "outputs": [],
   "source": [
    "txt = \"My last name is {} and first name is {}\""
   ]
  },
  {
   "cell_type": "code",
   "execution_count": 84,
   "id": "068358e0-9397-44b6-b3af-1a1db761f2a1",
   "metadata": {},
   "outputs": [
    {
     "name": "stdout",
     "output_type": "stream",
     "text": [
      "My last name is Saeeb and first name is Chafekar\n"
     ]
    }
   ],
   "source": [
    "print(txt.format(first_name,last_name)) # .format() method is used to format strings and insert the values in string placeholder"
   ]
  },
  {
   "cell_type": "markdown",
   "id": "525c89c0-e560-4a06-8f96-3c754d1416c3",
   "metadata": {},
   "source": [
    "# Using sep and end Parameter"
   ]
  },
  {
   "cell_type": "code",
   "execution_count": 85,
   "id": "501143a9-ba15-4d2e-a17b-a73d5403b0d8",
   "metadata": {},
   "outputs": [
    {
     "name": "stdout",
     "output_type": "stream",
     "text": [
      "Python#"
     ]
    }
   ],
   "source": [
    "print(\"Python\", end = '#') #end is a parameter"
   ]
  },
  {
   "cell_type": "code",
   "execution_count": 86,
   "id": "fd9a412c-5c03-490f-95e6-e29bc03c9186",
   "metadata": {},
   "outputs": [
    {
     "name": "stdout",
     "output_type": "stream",
     "text": [
      "Python$Programming\n"
     ]
    }
   ],
   "source": [
    "print(\"Python\", end = '$')\n",
    "print(\"Programming\")"
   ]
  },
  {
   "cell_type": "markdown",
   "id": "ea19a75d-b968-4379-82cf-fadde4eedc0f",
   "metadata": {},
   "source": [
    "- Seperating with comma"
   ]
  },
  {
   "cell_type": "code",
   "execution_count": 87,
   "id": "fcc09184-cbd2-49ae-be7b-7cbdb39af9b9",
   "metadata": {},
   "outputs": [
    {
     "name": "stdout",
     "output_type": "stream",
     "text": [
      "a,B,C\n"
     ]
    }
   ],
   "source": [
    "print('a','B','C', sep = ',')"
   ]
  },
  {
   "cell_type": "code",
   "execution_count": 88,
   "id": "6421d561-6dd3-420d-bf3c-c5290490b128",
   "metadata": {},
   "outputs": [
    {
     "name": "stdout",
     "output_type": "stream",
     "text": [
      "07-04-2025\n"
     ]
    }
   ],
   "source": [
    "print('07','04','2025', sep = '-') #sep is a parameter"
   ]
  },
  {
   "cell_type": "markdown",
   "id": "f70f4961-36d5-49fd-a4ef-c5f3492490da",
   "metadata": {},
   "source": [
    "# Using f-string"
   ]
  },
  {
   "cell_type": "code",
   "execution_count": 89,
   "id": "98feeb3a-0468-4047-baac-e4a00390ebac",
   "metadata": {},
   "outputs": [
    {
     "name": "stdout",
     "output_type": "stream",
     "text": [
      "My name is Aryan and I'm 19 years old.\n"
     ]
    }
   ],
   "source": [
    "name = 'Aryan'\n",
    "age = '19'\n",
    "print(f\"My name is {name} and I'm {age} years old.\") # without using .format() we can enter values using f string"
   ]
  },
  {
   "cell_type": "markdown",
   "id": "79d35beb-2076-4dbb-9121-8bbfe915d144",
   "metadata": {},
   "source": [
    "# Using format specifier"
   ]
  },
  {
   "cell_type": "code",
   "execution_count": 90,
   "id": "bec3a6fb-a3bf-4a77-868c-490baa7d7c94",
   "metadata": {},
   "outputs": [
    {
     "name": "stdout",
     "output_type": "stream",
     "text": [
      "Sum is 22\n"
     ]
    }
   ],
   "source": [
    "num = int(input(\"Enter a number: \"))\n",
    "add = num + 10\n",
    "print(\"Sum is %d\" %add)"
   ]
  },
  {
   "cell_type": "markdown",
   "id": "449f1b2d-7b84-483c-9696-2094aebcc8a5",
   "metadata": {},
   "source": [
    "# Taking multiple inputs"
   ]
  },
  {
   "cell_type": "code",
   "execution_count": 91,
   "id": "6137cc0c-6106-4f20-938c-987d80c64048",
   "metadata": {},
   "outputs": [
    {
     "name": "stdout",
     "output_type": "stream",
     "text": [
      "Number of boys is:  12\n",
      "Number of girls is:  12\n"
     ]
    }
   ],
   "source": [
    "a, b = (input(\"Enter two numbers: \")).split()\n",
    "print(\"Number of boys is: \" ,a)\n",
    "print(\"Number of girls is: \",b)"
   ]
  },
  {
   "cell_type": "markdown",
   "id": "7c6091ce-5826-4a59-aaa1-d8063d1c84d8",
   "metadata": {},
   "source": [
    "# Program of age"
   ]
  },
  {
   "cell_type": "code",
   "execution_count": 92,
   "id": "fc7e6078-417f-47eb-85f5-b26f6c25d3d1",
   "metadata": {},
   "outputs": [
    {
     "name": "stdout",
     "output_type": "stream",
     "text": [
      "You are adult\n"
     ]
    }
   ],
   "source": [
    "int_age = input(\"Enter your age: \")\n",
    "age = int(age)\n",
    "if age < 0:\n",
    "    print(\"Enter a valid age\")\n",
    "elif age < 18:\n",
    "    print(\"You are minor\")\n",
    "elif age >= 18 and age <= 60:\n",
    "    print(\"You are adult\")\n",
    "else:\n",
    "    print(\"You are senior citizen\")"
   ]
  },
  {
   "cell_type": "markdown",
   "id": "77d27e19-3428-45d9-85a8-7197c54f7d3d",
   "metadata": {},
   "source": [
    "# Typecasting"
   ]
  },
  {
   "cell_type": "code",
   "execution_count": 93,
   "id": "04dc09f8-68ed-429e-8ea9-d21008c4e04b",
   "metadata": {},
   "outputs": [
    {
     "name": "stdout",
     "output_type": "stream",
     "text": [
      "red\n"
     ]
    }
   ],
   "source": [
    "color = input(\"Enter Colour of rose: \")\n",
    "print(color)"
   ]
  },
  {
   "cell_type": "code",
   "execution_count": 94,
   "id": "2ddc96e3-e7c2-453b-878a-74430f03ea37",
   "metadata": {},
   "outputs": [
    {
     "name": "stdout",
     "output_type": "stream",
     "text": [
      "10\n"
     ]
    }
   ],
   "source": [
    "n = int(input(\"How many roses?: \"))\n",
    "print(n)"
   ]
  },
  {
   "cell_type": "code",
   "execution_count": 95,
   "id": "cfb45642-bf0e-4f93-bb1e-081252a11d05",
   "metadata": {},
   "outputs": [
    {
     "name": "stdout",
     "output_type": "stream",
     "text": [
      "10.0\n"
     ]
    }
   ],
   "source": [
    "price = float(input(\"Enter Price of each rose: \"))\n",
    "print(price)"
   ]
  },
  {
   "cell_type": "markdown",
   "id": "a49d40d9-f1df-46f3-9a50-95d12055379c",
   "metadata": {},
   "source": [
    "# Find data types in python"
   ]
  },
  {
   "cell_type": "code",
   "execution_count": 96,
   "id": "0b68f5c6-332c-40e0-979c-eb938db21517",
   "metadata": {},
   "outputs": [
    {
     "name": "stdout",
     "output_type": "stream",
     "text": [
      "<class 'str'>\n",
      "<class 'int'>\n",
      "<class 'float'>\n",
      "<class 'tuple'>\n",
      "<class 'list'>\n",
      "<class 'dict'>\n"
     ]
    }
   ],
   "source": [
    "a = \"Hello World!\"\n",
    "b = 20\n",
    "c = 34.678\n",
    "d = (\"Computers\" ,\"for\", \"students\")\n",
    "e = [\"Computers\" ,\"for\", \"students\"]\n",
    "f = {\"Computers\": 1 ,\"for\": 2, \"students\": 3}\n",
    "print(type(a))\n",
    "print(type(b))\n",
    "print(type(c))\n",
    "print(type(d))\n",
    "print(type(e))\n",
    "print(type(f))"
   ]
  },
  {
   "cell_type": "code",
   "execution_count": null,
   "id": "d82dfc9f-a930-483e-a296-196333357674",
   "metadata": {},
   "outputs": [],
   "source": []
  }
 ],
 "metadata": {
  "kernelspec": {
   "display_name": "Python 3",
   "language": "python",
   "name": "python3"
  },
  "language_info": {
   "codemirror_mode": {
    "name": "ipython",
    "version": 3
   },
   "file_extension": ".py",
   "mimetype": "text/x-python",
   "name": "python",
   "nbconvert_exporter": "python",
   "pygments_lexer": "ipython3",
   "version": "3.11.9"
  }
 },
 "nbformat": 4,
 "nbformat_minor": 5
}
