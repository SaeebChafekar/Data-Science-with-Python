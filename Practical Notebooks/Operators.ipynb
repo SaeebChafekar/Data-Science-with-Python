{
 "cells": [
  {
   "cell_type": "markdown",
   "id": "76c6460e-8896-40f4-a956-e87f0c8120ea",
   "metadata": {},
   "source": [
    "# Python arithmetic operators"
   ]
  },
  {
   "cell_type": "code",
   "execution_count": 8,
   "id": "819f4445-55ba-4966-ae39-f181f422cf4f",
   "metadata": {},
   "outputs": [
    {
     "name": "stdout",
     "output_type": "stream",
     "text": [
      "Sum is  24\n",
      "Subtraction is  16\n",
      "Multiplication is  80\n",
      "Division is  5.0\n",
      "Exponentation is  160000\n",
      "Floor division is is  5\n"
     ]
    }
   ],
   "source": [
    "x = 20\n",
    "y = 4\n",
    "print(\"Sum is \",x + y)\n",
    "print(\"Subtraction is \", x - y)\n",
    "print(\"Multiplication is \", x*y)\n",
    "print(\"Division is \",x / y)\n",
    "print(\"Exponentation is \",x ** y)\n",
    "print(\"Floor division is is \",x // y) #round off to ner=arest whole number"
   ]
  },
  {
   "cell_type": "markdown",
   "id": "c8dc42f7-69af-46b1-af5a-73e0b7d50419",
   "metadata": {},
   "source": [
    "# Assignment operators"
   ]
  },
  {
   "cell_type": "code",
   "execution_count": 17,
   "id": "1bf90468-72c7-4f63-b574-42dc7c57587b",
   "metadata": {},
   "outputs": [
    {
     "name": "stdout",
     "output_type": "stream",
     "text": [
      "8\n",
      "24\n",
      "8.0\n",
      "3.0\n",
      "1\n"
     ]
    }
   ],
   "source": [
    "x = 5\n",
    "x += 3\n",
    "print(x)\n",
    "x *= 3\n",
    "print(x)\n",
    "x /= 3\n",
    "print(x)\n",
    "x -= 5\n",
    "print(x)\n",
    "x %= 2\n",
    "print(int(x))"
   ]
  },
  {
   "cell_type": "markdown",
   "id": "b4592a64-1151-436c-b126-a7861a9733e1",
   "metadata": {},
   "source": [
    "# Identity operators"
   ]
  },
  {
   "cell_type": "code",
   "execution_count": 27,
   "id": "23da4495-5d9e-45cf-818f-16591e0b8d1d",
   "metadata": {},
   "outputs": [
    {
     "name": "stdout",
     "output_type": "stream",
     "text": [
      "False\n",
      "True\n",
      "True\n",
      "True\n",
      "False\n",
      "True\n",
      "False\n",
      "True\n"
     ]
    }
   ],
   "source": [
    "x = [\"ARYAN\", \"MISHRA\"]\n",
    "y = [\"ARYAN\", \"MISHRA\"]\n",
    "z = y\n",
    "print(x is y)\n",
    "print(x == y) #both == and is are different\n",
    "print(y is z)\n",
    "print(z is y)\n",
    "print(x is z)\n",
    "print(x is not z)\n",
    "print(y is not z)\n",
    "print(x is not y)"
   ]
  },
  {
   "cell_type": "markdown",
   "id": "11fbdd8b-e4d1-47ae-aa8a-5b085d9c6bc1",
   "metadata": {},
   "source": [
    "# Membership operators"
   ]
  },
  {
   "cell_type": "code",
   "execution_count": 29,
   "id": "a329bdab-068c-47e2-8faf-f9e4b057abe2",
   "metadata": {},
   "outputs": [
    {
     "name": "stdout",
     "output_type": "stream",
     "text": [
      "True\n",
      "True\n"
     ]
    }
   ],
   "source": [
    "x = [\"maths\", \"science\"]\n",
    "print(\"maths\" in x)\n",
    "print(\"physics\" not in x)"
   ]
  },
  {
   "cell_type": "markdown",
   "id": "ed20021c-6a08-4f34-8a9c-abd4d4908a07",
   "metadata": {},
   "source": [
    "# Bitwise operators"
   ]
  },
  {
   "cell_type": "code",
   "execution_count": 34,
   "id": "d89b81c7-3de4-4840-99bd-6c352f537663",
   "metadata": {},
   "outputs": [
    {
     "name": "stdout",
     "output_type": "stream",
     "text": [
      "0\n",
      "55\n",
      "55\n",
      "-35\n",
      "71303168\n",
      "0\n"
     ]
    }
   ],
   "source": [
    "x = 34\n",
    "y = 21\n",
    "print(x & y)\n",
    "print(x | y)\n",
    "print(x ^ y)\n",
    "print(~x)\n",
    "print(x << y)\n",
    "print(x >> y)"
   ]
  },
  {
   "cell_type": "code",
   "execution_count": null,
   "id": "e596861d-c17d-4f4c-805e-b9f5345524b0",
   "metadata": {},
   "outputs": [],
   "source": []
  }
 ],
 "metadata": {
  "kernelspec": {
   "display_name": "Python 3 (ipykernel)",
   "language": "python",
   "name": "python3"
  },
  "language_info": {
   "codemirror_mode": {
    "name": "ipython",
    "version": 3
   },
   "file_extension": ".py",
   "mimetype": "text/x-python",
   "name": "python",
   "nbconvert_exporter": "python",
   "pygments_lexer": "ipython3",
   "version": "3.12.7"
  }
 },
 "nbformat": 4,
 "nbformat_minor": 5
}
