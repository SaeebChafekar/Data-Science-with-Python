{
 "cells": [
  {
   "cell_type": "markdown",
   "id": "d9acbd34-869c-4ec6-b106-4bb41b3a7a50",
   "metadata": {},
   "source": [
    "# Python conditions and if statements"
   ]
  },
  {
   "cell_type": "code",
   "execution_count": 1,
   "id": "c21560bc-e45d-424e-a91b-6b7a9e3f11cb",
   "metadata": {},
   "outputs": [
    {
     "name": "stdout",
     "output_type": "stream",
     "text": [
      "b greater than a\n"
     ]
    }
   ],
   "source": [
    "a = 33\n",
    "b = 200\n",
    "if b > a:\n",
    "    print(\"b greater than a\")"
   ]
  },
  {
   "cell_type": "code",
   "execution_count": 2,
   "id": "28977e18-f02c-4c5a-a0dc-4076e4e78a37",
   "metadata": {},
   "outputs": [
    {
     "name": "stdout",
     "output_type": "stream",
     "text": [
      "a and b are equal\n"
     ]
    }
   ],
   "source": [
    "a = 90\n",
    "b = 90\n",
    "if b > a:\n",
    "    print(\"b greater than a\")\n",
    "elif a == b:\n",
    "    print(\"a and b are equal\")"
   ]
  },
  {
   "cell_type": "code",
   "execution_count": 4,
   "id": "6ea93405-a544-4e39-b1c4-65b07761e9f9",
   "metadata": {},
   "outputs": [
    {
     "name": "stdout",
     "output_type": "stream",
     "text": [
      "a is greter than b\n"
     ]
    }
   ],
   "source": [
    "a = 900\n",
    "b = 60\n",
    "if b > a:\n",
    "    print(\"b greater than a\")\n",
    "elif a == b:\n",
    "    print(\"a and b are equal\")\n",
    "else:\n",
    "    print(\"a is greter than b\")"
   ]
  },
  {
   "cell_type": "code",
   "execution_count": 7,
   "id": "2e06ea59-21d3-4c29-9121-b549f22d7cdc",
   "metadata": {},
   "outputs": [
    {
     "name": "stdout",
     "output_type": "stream",
     "text": [
      "a is greter than b\n"
     ]
    }
   ],
   "source": [
    "# one line if statement\n",
    "if a > b: print(\"a is greter than b\")"
   ]
  },
  {
   "cell_type": "code",
   "execution_count": 8,
   "id": "53129364-ded1-456d-a504-2c23b1f44990",
   "metadata": {},
   "outputs": [
    {
     "name": "stdout",
     "output_type": "stream",
     "text": [
      "b is not greter than a\n"
     ]
    }
   ],
   "source": [
    "a = 670\n",
    "b = 90\n",
    "if b > a:\n",
    "    print(\"b greater than a\")\n",
    "else:\n",
    "    print(\"b is not greter than a\")"
   ]
  }
 ],
 "metadata": {
  "kernelspec": {
   "display_name": "Python 3 (ipykernel)",
   "language": "python",
   "name": "python3"
  },
  "language_info": {
   "codemirror_mode": {
    "name": "ipython",
    "version": 3
   },
   "file_extension": ".py",
   "mimetype": "text/x-python",
   "name": "python",
   "nbconvert_exporter": "python",
   "pygments_lexer": "ipython3",
   "version": "3.12.7"
  }
 },
 "nbformat": 4,
 "nbformat_minor": 5
}
